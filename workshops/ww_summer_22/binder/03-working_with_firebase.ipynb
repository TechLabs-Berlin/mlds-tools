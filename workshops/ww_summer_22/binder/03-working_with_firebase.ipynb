{
 "cells": [
  {
   "attachments": {},
   "cell_type": "markdown",
   "id": "2ea41ddb",
   "metadata": {},
   "source": [
    "# Working with Cloud (Remote) Back-ends\n",
    "## So far\n",
    "- We've learnt to create a synthetic dataset\n",
    "- Train a logical function to make predictions from the synthetic dataset\n",
    "- Test and develop an API server with Flask\n",
    "- Deploy our prediction function to Heroku\n",
    "\n",
    "## In this section\n",
    "We will learn to interact with Google's Firebse and create a document collection **to demonstrate the usecase when our application needs to collect and store user data**.\n",
    "\n",
    "## Setup and Authentication"
   ]
  },
  {
   "cell_type": "code",
   "execution_count": 1,
   "id": "0925bc70",
   "metadata": {},
   "outputs": [],
   "source": [
    "import pandas as pd\n",
    "import firebase_admin\n",
    "from firebase_admin import credentials, firestore"
   ]
  },
  {
   "attachments": {},
   "cell_type": "markdown",
   "id": "318ba3d6",
   "metadata": {},
   "source": [
    "#### Point to Firebase credentials"
   ]
  },
  {
   "cell_type": "code",
   "execution_count": 2,
   "id": "71aaa5a3",
   "metadata": {},
   "outputs": [],
   "source": [
    "cred = credentials.Certificate(\"../configs/app_creds.json\")"
   ]
  },
  {
   "attachments": {},
   "cell_type": "markdown",
   "id": "ff3f6edf",
   "metadata": {},
   "source": [
    "#### Initialize firebase client as admin"
   ]
  },
  {
   "cell_type": "code",
   "execution_count": 3,
   "id": "4a4f885a",
   "metadata": {},
   "outputs": [
    {
     "data": {
      "text/plain": [
       "<firebase_admin.App at 0x117990670>"
      ]
     },
     "execution_count": 3,
     "metadata": {},
     "output_type": "execute_result"
    }
   ],
   "source": [
    "firebase_admin.initialize_app(cred,\n",
    "    {\n",
    "        \"databaseURL\": \"https://save-nyc-demo.firebaseio.com/\"\n",
    "})"
   ]
  },
  {
   "attachments": {},
   "cell_type": "markdown",
   "id": "c83c3bb2",
   "metadata": {},
   "source": [
    "## Interfacing with your Firebase Collections"
   ]
  },
  {
   "attachments": {},
   "cell_type": "markdown",
   "id": "69e92adb",
   "metadata": {},
   "source": [
    "#### Load data to bootstrap"
   ]
  },
  {
   "cell_type": "code",
   "execution_count": 4,
   "id": "b1957cee",
   "metadata": {},
   "outputs": [
    {
     "data": {
      "text/html": [
       "<div>\n",
       "<style scoped>\n",
       "    .dataframe tbody tr th:only-of-type {\n",
       "        vertical-align: middle;\n",
       "    }\n",
       "\n",
       "    .dataframe tbody tr th {\n",
       "        vertical-align: top;\n",
       "    }\n",
       "\n",
       "    .dataframe thead th {\n",
       "        text-align: right;\n",
       "    }\n",
       "</style>\n",
       "<table border=\"1\" class=\"dataframe\">\n",
       "  <thead>\n",
       "    <tr style=\"text-align: right;\">\n",
       "      <th></th>\n",
       "      <th>superhero</th>\n",
       "      <th>date</th>\n",
       "      <th>active_on_duty</th>\n",
       "    </tr>\n",
       "  </thead>\n",
       "  <tbody>\n",
       "    <tr>\n",
       "      <th>0</th>\n",
       "      <td>Daredevil</td>\n",
       "      <td>2023-07-17</td>\n",
       "      <td>0</td>\n",
       "    </tr>\n",
       "    <tr>\n",
       "      <th>1</th>\n",
       "      <td>Deadpool</td>\n",
       "      <td>2023-07-18</td>\n",
       "      <td>1</td>\n",
       "    </tr>\n",
       "    <tr>\n",
       "      <th>2</th>\n",
       "      <td>Dr X</td>\n",
       "      <td>2023-07-17</td>\n",
       "      <td>0</td>\n",
       "    </tr>\n",
       "    <tr>\n",
       "      <th>3</th>\n",
       "      <td>Dr X</td>\n",
       "      <td>2023-07-18</td>\n",
       "      <td>1</td>\n",
       "    </tr>\n",
       "    <tr>\n",
       "      <th>4</th>\n",
       "      <td>Luke Cage</td>\n",
       "      <td>2023-07-16</td>\n",
       "      <td>1</td>\n",
       "    </tr>\n",
       "    <tr>\n",
       "      <th>5</th>\n",
       "      <td>Luke Cage</td>\n",
       "      <td>2023-07-18</td>\n",
       "      <td>0</td>\n",
       "    </tr>\n",
       "    <tr>\n",
       "      <th>6</th>\n",
       "      <td>Mr Fantastic</td>\n",
       "      <td>2023-07-16</td>\n",
       "      <td>1</td>\n",
       "    </tr>\n",
       "    <tr>\n",
       "      <th>7</th>\n",
       "      <td>Mr Fantastic</td>\n",
       "      <td>2023-07-18</td>\n",
       "      <td>1</td>\n",
       "    </tr>\n",
       "    <tr>\n",
       "      <th>8</th>\n",
       "      <td>Peeping Tom</td>\n",
       "      <td>2023-07-16</td>\n",
       "      <td>1</td>\n",
       "    </tr>\n",
       "    <tr>\n",
       "      <th>9</th>\n",
       "      <td>Peeping Tom</td>\n",
       "      <td>2023-07-17</td>\n",
       "      <td>1</td>\n",
       "    </tr>\n",
       "    <tr>\n",
       "      <th>10</th>\n",
       "      <td>Spiderman</td>\n",
       "      <td>2023-07-16</td>\n",
       "      <td>1</td>\n",
       "    </tr>\n",
       "    <tr>\n",
       "      <th>11</th>\n",
       "      <td>Spiderman</td>\n",
       "      <td>2023-07-17</td>\n",
       "      <td>1</td>\n",
       "    </tr>\n",
       "    <tr>\n",
       "      <th>12</th>\n",
       "      <td>Spiderman</td>\n",
       "      <td>2023-07-18</td>\n",
       "      <td>0</td>\n",
       "    </tr>\n",
       "    <tr>\n",
       "      <th>13</th>\n",
       "      <td>The Comedian</td>\n",
       "      <td>2023-07-17</td>\n",
       "      <td>1</td>\n",
       "    </tr>\n",
       "    <tr>\n",
       "      <th>14</th>\n",
       "      <td>The Comedian</td>\n",
       "      <td>2023-07-18</td>\n",
       "      <td>0</td>\n",
       "    </tr>\n",
       "  </tbody>\n",
       "</table>\n",
       "</div>"
      ],
      "text/plain": [
       "       superhero        date  active_on_duty\n",
       "0      Daredevil  2023-07-17               0\n",
       "1       Deadpool  2023-07-18               1\n",
       "2           Dr X  2023-07-17               0\n",
       "3           Dr X  2023-07-18               1\n",
       "4      Luke Cage  2023-07-16               1\n",
       "5      Luke Cage  2023-07-18               0\n",
       "6   Mr Fantastic  2023-07-16               1\n",
       "7   Mr Fantastic  2023-07-18               1\n",
       "8    Peeping Tom  2023-07-16               1\n",
       "9    Peeping Tom  2023-07-17               1\n",
       "10     Spiderman  2023-07-16               1\n",
       "11     Spiderman  2023-07-17               1\n",
       "12     Spiderman  2023-07-18               0\n",
       "13  The Comedian  2023-07-17               1\n",
       "14  The Comedian  2023-07-18               0"
      ]
     },
     "execution_count": 4,
     "metadata": {},
     "output_type": "execute_result"
    }
   ],
   "source": [
    "df = pd.read_csv(\"../data/superhero_timesheets.csv\")\n",
    "df"
   ]
  },
  {
   "attachments": {},
   "cell_type": "markdown",
   "id": "15cbad41",
   "metadata": {},
   "source": [
    "#### Connect to your desired collection"
   ]
  },
  {
   "cell_type": "code",
   "execution_count": 5,
   "id": "d361683c",
   "metadata": {},
   "outputs": [],
   "source": [
    "db = firestore.client()\n",
    "doc_ref = db.collection(\"superhero_timesheets\")"
   ]
  },
  {
   "attachments": {},
   "cell_type": "markdown",
   "id": "d1252f3a",
   "metadata": {},
   "source": [
    "#### Bootstrap all records"
   ]
  },
  {
   "cell_type": "code",
   "execution_count": 6,
   "id": "52d23541",
   "metadata": {},
   "outputs": [
    {
     "name": "stdout",
     "output_type": "stream",
     "text": [
      "CPU times: user 97.9 ms, sys: 70.5 ms, total: 168 ms\n",
      "Wall time: 6.66 s\n"
     ]
    },
    {
     "data": {
      "text/plain": [
       "[(DatetimeWithNanoseconds(2023, 7, 18, 13, 50, 9, 408997, tzinfo=datetime.timezone.utc),\n",
       "  <google.cloud.firestore_v1.document.DocumentReference at 0x1179d9e80>),\n",
       " (DatetimeWithNanoseconds(2023, 7, 18, 13, 50, 9, 731504, tzinfo=datetime.timezone.utc),\n",
       "  <google.cloud.firestore_v1.document.DocumentReference at 0x1179d9970>),\n",
       " (DatetimeWithNanoseconds(2023, 7, 18, 13, 50, 10, 265185, tzinfo=datetime.timezone.utc),\n",
       "  <google.cloud.firestore_v1.document.DocumentReference at 0x1179d9cd0>),\n",
       " (DatetimeWithNanoseconds(2023, 7, 18, 13, 50, 10, 504890, tzinfo=datetime.timezone.utc),\n",
       "  <google.cloud.firestore_v1.document.DocumentReference at 0x117950100>),\n",
       " (DatetimeWithNanoseconds(2023, 7, 18, 13, 50, 11, 24346, tzinfo=datetime.timezone.utc),\n",
       "  <google.cloud.firestore_v1.document.DocumentReference at 0x117a00af0>),\n",
       " (DatetimeWithNanoseconds(2023, 7, 18, 13, 50, 11, 261725, tzinfo=datetime.timezone.utc),\n",
       "  <google.cloud.firestore_v1.document.DocumentReference at 0x1179eb520>),\n",
       " (DatetimeWithNanoseconds(2023, 7, 18, 13, 50, 11, 793378, tzinfo=datetime.timezone.utc),\n",
       "  <google.cloud.firestore_v1.document.DocumentReference at 0x117a00f70>),\n",
       " (DatetimeWithNanoseconds(2023, 7, 18, 13, 50, 12, 49866, tzinfo=datetime.timezone.utc),\n",
       "  <google.cloud.firestore_v1.document.DocumentReference at 0x1179eb820>),\n",
       " (DatetimeWithNanoseconds(2023, 7, 18, 13, 50, 12, 539786, tzinfo=datetime.timezone.utc),\n",
       "  <google.cloud.firestore_v1.document.DocumentReference at 0x117a00bb0>),\n",
       " (DatetimeWithNanoseconds(2023, 7, 18, 13, 50, 12, 811652, tzinfo=datetime.timezone.utc),\n",
       "  <google.cloud.firestore_v1.document.DocumentReference at 0x1179eb2e0>),\n",
       " (DatetimeWithNanoseconds(2023, 7, 18, 13, 50, 13, 300647, tzinfo=datetime.timezone.utc),\n",
       "  <google.cloud.firestore_v1.document.DocumentReference at 0x117a00be0>),\n",
       " (DatetimeWithNanoseconds(2023, 7, 18, 13, 50, 13, 595662, tzinfo=datetime.timezone.utc),\n",
       "  <google.cloud.firestore_v1.document.DocumentReference at 0x1179eb400>),\n",
       " (DatetimeWithNanoseconds(2023, 7, 18, 13, 50, 14, 146975, tzinfo=datetime.timezone.utc),\n",
       "  <google.cloud.firestore_v1.document.DocumentReference at 0x117a00a30>),\n",
       " (DatetimeWithNanoseconds(2023, 7, 18, 13, 50, 14, 344847, tzinfo=datetime.timezone.utc),\n",
       "  <google.cloud.firestore_v1.document.DocumentReference at 0x1179eb3d0>),\n",
       " (DatetimeWithNanoseconds(2023, 7, 18, 13, 50, 14, 908801, tzinfo=datetime.timezone.utc),\n",
       "  <google.cloud.firestore_v1.document.DocumentReference at 0x1179eb4c0>)]"
      ]
     },
     "execution_count": 6,
     "metadata": {},
     "output_type": "execute_result"
    }
   ],
   "source": [
    "%%time\n",
    "tmp = df.to_dict(orient=\"records\")\n",
    "\n",
    "list(map(lambda x: doc_ref.add(x), tmp))"
   ]
  },
  {
   "attachments": {},
   "cell_type": "markdown",
   "id": "b51c22ee",
   "metadata": {},
   "source": [
    "#### Query to fetch all records for today"
   ]
  },
  {
   "cell_type": "code",
   "execution_count": 7,
   "id": "bb055778",
   "metadata": {},
   "outputs": [
    {
     "data": {
      "text/html": [
       "<div>\n",
       "<style scoped>\n",
       "    .dataframe tbody tr th:only-of-type {\n",
       "        vertical-align: middle;\n",
       "    }\n",
       "\n",
       "    .dataframe tbody tr th {\n",
       "        vertical-align: top;\n",
       "    }\n",
       "\n",
       "    .dataframe thead th {\n",
       "        text-align: right;\n",
       "    }\n",
       "</style>\n",
       "<table border=\"1\" class=\"dataframe\">\n",
       "  <thead>\n",
       "    <tr style=\"text-align: right;\">\n",
       "      <th></th>\n",
       "      <th>active_on_duty</th>\n",
       "      <th>date</th>\n",
       "      <th>superhero</th>\n",
       "    </tr>\n",
       "  </thead>\n",
       "  <tbody>\n",
       "    <tr>\n",
       "      <th>0</th>\n",
       "      <td>0</td>\n",
       "      <td>2023-07-18</td>\n",
       "      <td>The Comedian</td>\n",
       "    </tr>\n",
       "    <tr>\n",
       "      <th>1</th>\n",
       "      <td>1</td>\n",
       "      <td>2023-07-18</td>\n",
       "      <td>Mr Fantastic</td>\n",
       "    </tr>\n",
       "    <tr>\n",
       "      <th>2</th>\n",
       "      <td>1</td>\n",
       "      <td>2023-07-18</td>\n",
       "      <td>Dr X</td>\n",
       "    </tr>\n",
       "    <tr>\n",
       "      <th>3</th>\n",
       "      <td>0</td>\n",
       "      <td>2023-07-18</td>\n",
       "      <td>Spiderman</td>\n",
       "    </tr>\n",
       "    <tr>\n",
       "      <th>4</th>\n",
       "      <td>1</td>\n",
       "      <td>2023-07-18</td>\n",
       "      <td>Deadpool</td>\n",
       "    </tr>\n",
       "    <tr>\n",
       "      <th>5</th>\n",
       "      <td>0</td>\n",
       "      <td>2023-07-18</td>\n",
       "      <td>Luke Cage</td>\n",
       "    </tr>\n",
       "  </tbody>\n",
       "</table>\n",
       "</div>"
      ],
      "text/plain": [
       "   active_on_duty        date     superhero\n",
       "0               0  2023-07-18  The Comedian\n",
       "1               1  2023-07-18  Mr Fantastic\n",
       "2               1  2023-07-18          Dr X\n",
       "3               0  2023-07-18     Spiderman\n",
       "4               1  2023-07-18      Deadpool\n",
       "5               0  2023-07-18     Luke Cage"
      ]
     },
     "execution_count": 7,
     "metadata": {},
     "output_type": "execute_result"
    }
   ],
   "source": [
    "today = pd.Timestamp.now().date()\n",
    "res_0 = pd.DataFrame([\n",
    "    doc.to_dict() for doc in db.collection(u\"superhero_timesheets\").where(u\"date\", u\">=\", str(today)).stream()\n",
    "])\n",
    "\n",
    "res_0"
   ]
  },
  {
   "attachments": {},
   "cell_type": "markdown",
   "id": "3642add4",
   "metadata": {},
   "source": [
    "#### Adding a record"
   ]
  },
  {
   "cell_type": "code",
   "execution_count": 8,
   "id": "2ec90efd",
   "metadata": {},
   "outputs": [
    {
     "name": "stdout",
     "output_type": "stream",
     "text": [
      "CPU times: user 1.86 ms, sys: 2.41 ms, total: 4.27 ms\n",
      "Wall time: 196 ms\n"
     ]
    },
    {
     "data": {
      "text/plain": [
       "(DatetimeWithNanoseconds(2023, 7, 18, 13, 50, 31, 950705, tzinfo=datetime.timezone.utc),\n",
       " <google.cloud.firestore_v1.document.DocumentReference at 0x1179d9790>)"
      ]
     },
     "execution_count": 8,
     "metadata": {},
     "output_type": "execute_result"
    }
   ],
   "source": [
    "%%time\n",
    "doc_ref.add({\n",
    "    \"superhero\": \"Leonardo\",\n",
    "    \"active_on_duty\": 1,\n",
    "    \"date\": \"2022-05-31\"\n",
    "})"
   ]
  },
  {
   "cell_type": "code",
   "execution_count": 9,
   "id": "65273ef3",
   "metadata": {},
   "outputs": [
    {
     "data": {
      "text/html": [
       "<div>\n",
       "<style scoped>\n",
       "    .dataframe tbody tr th:only-of-type {\n",
       "        vertical-align: middle;\n",
       "    }\n",
       "\n",
       "    .dataframe tbody tr th {\n",
       "        vertical-align: top;\n",
       "    }\n",
       "\n",
       "    .dataframe thead th {\n",
       "        text-align: right;\n",
       "    }\n",
       "</style>\n",
       "<table border=\"1\" class=\"dataframe\">\n",
       "  <thead>\n",
       "    <tr style=\"text-align: right;\">\n",
       "      <th></th>\n",
       "      <th>superhero</th>\n",
       "      <th>date</th>\n",
       "      <th>active_on_duty</th>\n",
       "    </tr>\n",
       "  </thead>\n",
       "  <tbody>\n",
       "    <tr>\n",
       "      <th>0</th>\n",
       "      <td>Spiderman</td>\n",
       "      <td>2022-05-31</td>\n",
       "      <td>1</td>\n",
       "    </tr>\n",
       "    <tr>\n",
       "      <th>1</th>\n",
       "      <td>Deadpool</td>\n",
       "      <td>2022-05-31</td>\n",
       "      <td>1</td>\n",
       "    </tr>\n",
       "    <tr>\n",
       "      <th>2</th>\n",
       "      <td>Leonardo</td>\n",
       "      <td>2022-05-31</td>\n",
       "      <td>1</td>\n",
       "    </tr>\n",
       "    <tr>\n",
       "      <th>3</th>\n",
       "      <td>Mr Fantastic</td>\n",
       "      <td>2022-05-31</td>\n",
       "      <td>1</td>\n",
       "    </tr>\n",
       "    <tr>\n",
       "      <th>4</th>\n",
       "      <td>Luke Cage</td>\n",
       "      <td>2022-05-31</td>\n",
       "      <td>0</td>\n",
       "    </tr>\n",
       "    <tr>\n",
       "      <th>5</th>\n",
       "      <td>Daredevil</td>\n",
       "      <td>2022-05-31</td>\n",
       "      <td>1</td>\n",
       "    </tr>\n",
       "    <tr>\n",
       "      <th>6</th>\n",
       "      <td>Wolverine</td>\n",
       "      <td>2022-05-31</td>\n",
       "      <td>1</td>\n",
       "    </tr>\n",
       "    <tr>\n",
       "      <th>7</th>\n",
       "      <td>Peeping Tom</td>\n",
       "      <td>2022-05-31</td>\n",
       "      <td>1</td>\n",
       "    </tr>\n",
       "  </tbody>\n",
       "</table>\n",
       "</div>"
      ],
      "text/plain": [
       "      superhero        date  active_on_duty\n",
       "0     Spiderman  2022-05-31               1\n",
       "1      Deadpool  2022-05-31               1\n",
       "2      Leonardo  2022-05-31               1\n",
       "3  Mr Fantastic  2022-05-31               1\n",
       "4     Luke Cage  2022-05-31               0\n",
       "5     Daredevil  2022-05-31               1\n",
       "6     Wolverine  2022-05-31               1\n",
       "7   Peeping Tom  2022-05-31               1"
      ]
     },
     "execution_count": 9,
     "metadata": {},
     "output_type": "execute_result"
    }
   ],
   "source": [
    "res_1 = pd.DataFrame([\n",
    "    doc.to_dict() for doc in db.collection(u\"superhero_timesheets\").where(u\"date\", u\">=\", str(today)).stream()\n",
    "])\n",
    "\n",
    "res_1"
   ]
  },
  {
   "attachments": {},
   "cell_type": "markdown",
   "id": "73429d14",
   "metadata": {},
   "source": [
    "#### Dropping a collection"
   ]
  },
  {
   "cell_type": "code",
   "execution_count": 9,
   "id": "4d5929d4",
   "metadata": {},
   "outputs": [
    {
     "name": "stdout",
     "output_type": "stream",
     "text": [
      "Deleting doc 0YpyPk8SnQvEO8R1xvKB => {'date': '2022-05-29', 'active_on_duty': 0, 'superhero': 'Dr X'}\n",
      "Deleting doc 1q0YCAyFmhKYABwpQZSy => {'date': '2022-05-31', 'active_on_duty': 1, 'superhero': 'Daredevil'}\n",
      "Deleting doc 2X0vxiXIB7ZX65qMbW7s => {'active_on_duty': 0, 'date': '2023-07-18', 'superhero': 'The Comedian'}\n",
      "Deleting doc 4Dqg5rFUgn3fXp6RwPer => {'active_on_duty': 1, 'date': '2022-05-30', 'superhero': 'Wolverine'}\n",
      "Deleting doc 7O8mMSYbLKEY1Bk82aWD => {'active_on_duty': 0, 'date': '2022-05-30', 'superhero': 'Spiderman'}\n",
      "Deleting doc 7iIPjxrRHFhUo1cBI883 => {'active_on_duty': 1, 'date': '2023-07-18', 'superhero': 'Mr Fantastic'}\n",
      "Deleting doc A9h22aRh7zumjY6cnW4f => {'active_on_duty': 1, 'date': '2022-05-31', 'superhero': 'Deadpool'}\n",
      "Deleting doc Bp7OINziADOW7PpuUMg5 => {'active_on_duty': 1, 'date': '2023-07-16', 'superhero': 'Spiderman'}\n",
      "Deleting doc EtV6RvJguUi7sGvRdz4l => {'active_on_duty': 0, 'date': '2022-05-31', 'superhero': 'Peeping Tom'}\n",
      "Deleting doc KmuFQovkAPhjvwTglPyJ => {'active_on_duty': 1, 'date': '2023-07-16', 'superhero': 'Mr Fantastic'}\n",
      "Deleting doc Mq3rr3VljCFRB2zB5lIc => {'date': '2022-05-29', 'active_on_duty': 0, 'superhero': 'Deadpool'}\n",
      "Deleting doc NKticdGMUAlCSiecyomU => {'date': '2022-05-30', 'active_on_duty': 0, 'superhero': 'Dr X'}\n",
      "Deleting doc SAMEDLBPopj1VBLRbRap => {'active_on_duty': 0, 'date': '2022-05-30', 'superhero': 'Luke Cage'}\n",
      "Deleting doc TLJ9lAvxb8eoU0DbKROF => {'active_on_duty': 1, 'date': '2023-07-18', 'superhero': 'Dr X'}\n",
      "Deleting doc VlyJDz0zZApzQZC5sMzx => {'active_on_duty': 0, 'date': '2023-07-18', 'superhero': 'Spiderman'}\n",
      "Deleting doc YR0rtqpKdJgv6urY5iFh => {'active_on_duty': 1, 'date': '2023-07-17', 'superhero': 'Peeping Tom'}\n",
      "Deleting doc ZsvA71gQhz2p5GrUqg65 => {'active_on_duty': 1, 'date': '2023-07-17', 'superhero': 'Spiderman'}\n",
      "Deleting doc adWJEmLVwyxS59T4TPAr => {'active_on_duty': 0, 'date': '2023-07-17', 'superhero': 'Dr X'}\n",
      "Deleting doc binXCccCsqdtUyoUQVbE => {'date': '2022-05-31', 'active_on_duty': 0, 'superhero': 'Luke Cage'}\n",
      "Deleting doc bq8AUz4iI47bFwf7VrPT => {'active_on_duty': 1, 'date': '2022-05-31', 'superhero': 'Dr X'}\n",
      "Deleting doc drtA3t5fUvGYs71fLA8a => {'active_on_duty': 1, 'date': '2023-07-17', 'superhero': 'The Comedian'}\n",
      "Deleting doc fW07GkvdAC2harlmv4bO => {'active_on_duty': 1, 'date': '2023-07-18', 'superhero': 'Deadpool'}\n",
      "Deleting doc m5mznXb1DT2s7TIyxb57 => {'active_on_duty': 0, 'date': '2023-07-18', 'superhero': 'Luke Cage'}\n",
      "Deleting doc m8KffGoyLF9nEX9zpgGQ => {'date': '2022-05-30', 'active_on_duty': 0, 'superhero': 'Peeping Tom'}\n",
      "Deleting doc n0Ef0lsVlBuCTNBLXM2t => {'active_on_duty': 1, 'date': '2022-05-31', 'superhero': 'The Black Panther'}\n",
      "Deleting doc pwq1BYJ8zW6ZYgbUgHfD => {'active_on_duty': 0, 'date': '2023-07-17', 'superhero': 'Daredevil'}\n",
      "Deleting doc rI3zZMWkmPP8WQY0QxFe => {'date': '2022-05-29', 'active_on_duty': 1, 'superhero': 'Wolverine'}\n",
      "Deleting doc sd6Jnm3rpFMzpZVEzOQn => {'active_on_duty': 1, 'date': '2022-05-29', 'superhero': 'Luke Cage'}\n",
      "Deleting doc sfQzm77WbllENCEvjG80 => {'date': '2022-05-31', 'active_on_duty': 1, 'superhero': 'Wolverine'}\n",
      "Deleting doc uc5D5IAjG0e6yZWQ4u2Y => {'active_on_duty': 1, 'date': '2023-07-16', 'superhero': 'Luke Cage'}\n",
      "Deleting doc vXiUPmN99amIX3w9eE4y => {'active_on_duty': 1, 'date': '2022-05-31', 'superhero': 'Leonardo'}\n",
      "Deleting doc xPkHewC9UJddjqDnJgRw => {'active_on_duty': 1, 'date': '2023-07-16', 'superhero': 'Peeping Tom'}\n",
      "CPU times: user 155 ms, sys: 265 ms, total: 420 ms\n",
      "Wall time: 12.9 s\n"
     ]
    }
   ],
   "source": [
    "%%time\n",
    "def delete_collection(coll_ref, batch_size=200):\n",
    "    docs = coll_ref.limit(batch_size).stream()\n",
    "    deleted = 0\n",
    "\n",
    "    for doc in docs:\n",
    "        print(f'Deleting doc {doc.id} => {doc.to_dict()}')\n",
    "        doc.reference.delete()\n",
    "        deleted = deleted + 1\n",
    "\n",
    "    if deleted >= batch_size:\n",
    "        return delete_collection(coll_ref, batch_size)\n",
    "\n",
    "delete_collection(doc_ref)"
   ]
  },
  {
   "attachments": {},
   "cell_type": "markdown",
   "id": "573818b5",
   "metadata": {},
   "source": [
    "## Outro\n",
    "Thank you for following this workshop all the way to the ends. All credits to [Firebase Docs](https://firebase.google.com/docs) for code snippets used in this notebook."
   ]
  }
 ],
 "metadata": {
  "interpreter": {
   "hash": "c793117ae5d2678a81cad7342c660a9d1ee0c1491aecac95024b243d454c99c8"
  },
  "kernelspec": {
   "display_name": ".env",
   "language": "python",
   "name": ".env"
  },
  "language_info": {
   "codemirror_mode": {
    "name": "ipython",
    "version": 3
   },
   "file_extension": ".py",
   "mimetype": "text/x-python",
   "name": "python",
   "nbconvert_exporter": "python",
   "pygments_lexer": "ipython3",
   "version": "3.9.13"
  }
 },
 "nbformat": 4,
 "nbformat_minor": 5
}
