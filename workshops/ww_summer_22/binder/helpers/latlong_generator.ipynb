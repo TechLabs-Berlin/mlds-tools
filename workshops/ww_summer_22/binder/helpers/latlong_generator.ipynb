{
 "cells": [
  {
   "cell_type": "code",
   "execution_count": null,
   "metadata": {},
   "outputs": [],
   "source": [
    "!pip install geopy Nominatim plotly geopandas"
   ]
  },
  {
   "cell_type": "markdown",
   "metadata": {},
   "source": [
    "#### Function to Map Location String to LatLong"
   ]
  },
  {
   "cell_type": "code",
   "execution_count": null,
   "metadata": {},
   "outputs": [],
   "source": [
    "from geopy.geocoders import Nominatim\n",
    "\n",
    "def lat_long_locator(address):\n",
    "    geolocator = Nominatim(user_agent=\"TechLabs_Berlin\")\n",
    "    location = geolocator.geocode(address)\n",
    "    print(location.address)\n",
    "    return(location.latitude, location.longitude)\n",
    "\n",
    "lat_long_locator(\"Ikorodu\")"
   ]
  },
  {
   "cell_type": "markdown",
   "metadata": {},
   "source": [
    "### Example"
   ]
  },
  {
   "cell_type": "code",
   "execution_count": null,
   "metadata": {},
   "outputs": [],
   "source": [
    "my_walk = [\"Fernsehturm\", \"Hackescher Markt\", \"Elbphilharmonie\", \"Zugspitze\", \"Matterhorn\"]\n",
    "my_walk_coords = [lat_long_locator(x) for x in my_walk]"
   ]
  },
  {
   "cell_type": "code",
   "execution_count": null,
   "metadata": {},
   "outputs": [],
   "source": [
    "import pandas as pd\n",
    "df = pd.DataFrame(my_walk_coords, columns=[\"Lat\", \"Long\"])\n",
    "df[\"ratings\"] = [5,4,3,2,1]\n",
    "df\n"
   ]
  },
  {
   "cell_type": "code",
   "execution_count": null,
   "metadata": {},
   "outputs": [],
   "source": [
    "import plotly.express as px\n",
    "import plotly.graph_objects as go\n",
    "\n",
    "fig = px.scatter_geo(\n",
    "    df, lat=\"Lat\", lon=\"Long\",\n",
    "    color_continuous_scale=px.colors.cyclical.IceFire,\n",
    "    size=\"ratings\",size_max=15)\n",
    "# fig.show()\n",
    "\n",
    "\n",
    "\n",
    "# fig = go.Figure(\n",
    "#     data=go.Scattergeo(\n",
    "#         lon=df['Lat'],\n",
    "#         lat=df['Long'],\n",
    "#         mode='markers',\n",
    "#         marker_color = df['ratings']\n",
    "# ))\n",
    "\n",
    "fig.update_layout(\n",
    "        title = 'DACH Walks',\n",
    "        geo_scope='europe',\n",
    "    )\n",
    "fig.show()"
   ]
  }
 ],
 "metadata": {
  "kernelspec": {
   "display_name": "Python 3",
   "language": "python",
   "name": "python3"
  },
  "language_info": {
   "codemirror_mode": {
    "name": "ipython",
    "version": 3
   },
   "file_extension": ".py",
   "mimetype": "text/x-python",
   "name": "python",
   "nbconvert_exporter": "python",
   "pygments_lexer": "ipython3",
   "version": "3.8.2"
  }
 },
 "nbformat": 4,
 "nbformat_minor": 4
}
