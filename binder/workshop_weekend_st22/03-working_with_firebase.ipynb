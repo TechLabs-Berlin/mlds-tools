{
 "cells": [
  {
   "cell_type": "markdown",
   "id": "2ea41ddb",
   "metadata": {},
   "source": [
    "# Working with Cloud (Remote) Back-ends\n",
    "## So far\n",
    "- We've learnt to create a synthetic dataset\n",
    "- Train a logical function to make predictions from the synthetic dataset\n",
    "- Test and develop an API server with Flask\n",
    "- Deploy our prediction function to Heroku\n",
    "\n",
    "## In this section\n",
    "We will learn to interact with Google's Firebse and create a document collection **to demonstrate the usecase when our application needs to collect and store user data**.\n",
    "\n",
    "## Setup and Authentication"
   ]
  },
  {
   "cell_type": "code",
   "execution_count": 1,
   "id": "0925bc70",
   "metadata": {},
   "outputs": [],
   "source": [
    "import pandas as pd\n",
    "import firebase_admin\n",
    "from firebase_admin import credentials, firestore"
   ]
  },
  {
   "cell_type": "markdown",
   "id": "318ba3d6",
   "metadata": {},
   "source": [
    "#### Point to Firebase credentials"
   ]
  },
  {
   "cell_type": "code",
   "execution_count": 2,
   "id": "71aaa5a3",
   "metadata": {},
   "outputs": [],
   "source": [
    "cred = credentials.Certificate(\"../../configs/app_creds.json\")"
   ]
  },
  {
   "cell_type": "markdown",
   "id": "ff3f6edf",
   "metadata": {},
   "source": [
    "#### Initialize firebase client as admin"
   ]
  },
  {
   "cell_type": "code",
   "execution_count": 3,
   "id": "4a4f885a",
   "metadata": {},
   "outputs": [
    {
     "data": {
      "text/plain": [
       "<firebase_admin.App at 0x1306f6790>"
      ]
     },
     "execution_count": 3,
     "metadata": {},
     "output_type": "execute_result"
    }
   ],
   "source": [
    "firebase_admin.initialize_app(cred,\n",
    "    {\n",
    "        \"databaseURL\": \"https://save-nyc-demo.firebaseio.com/\"\n",
    "})"
   ]
  },
  {
   "cell_type": "markdown",
   "id": "c83c3bb2",
   "metadata": {},
   "source": [
    "## Interfacing with your Firebase Collections"
   ]
  },
  {
   "cell_type": "markdown",
   "id": "69e92adb",
   "metadata": {},
   "source": [
    "#### Load data to bootstrap"
   ]
  },
  {
   "cell_type": "code",
   "execution_count": 4,
   "id": "b1957cee",
   "metadata": {},
   "outputs": [
    {
     "data": {
      "text/html": [
       "<div>\n",
       "<style scoped>\n",
       "    .dataframe tbody tr th:only-of-type {\n",
       "        vertical-align: middle;\n",
       "    }\n",
       "\n",
       "    .dataframe tbody tr th {\n",
       "        vertical-align: top;\n",
       "    }\n",
       "\n",
       "    .dataframe thead th {\n",
       "        text-align: right;\n",
       "    }\n",
       "</style>\n",
       "<table border=\"1\" class=\"dataframe\">\n",
       "  <thead>\n",
       "    <tr style=\"text-align: right;\">\n",
       "      <th></th>\n",
       "      <th>superhero</th>\n",
       "      <th>date</th>\n",
       "      <th>active_on_duty</th>\n",
       "    </tr>\n",
       "  </thead>\n",
       "  <tbody>\n",
       "    <tr>\n",
       "      <th>0</th>\n",
       "      <td>Daredevil</td>\n",
       "      <td>2022-05-29</td>\n",
       "      <td>1</td>\n",
       "    </tr>\n",
       "    <tr>\n",
       "      <th>1</th>\n",
       "      <td>Deadpool</td>\n",
       "      <td>2022-05-29</td>\n",
       "      <td>1</td>\n",
       "    </tr>\n",
       "    <tr>\n",
       "      <th>2</th>\n",
       "      <td>Deadpool</td>\n",
       "      <td>2022-05-30</td>\n",
       "      <td>0</td>\n",
       "    </tr>\n",
       "    <tr>\n",
       "      <th>3</th>\n",
       "      <td>Deadpool</td>\n",
       "      <td>2022-05-31</td>\n",
       "      <td>0</td>\n",
       "    </tr>\n",
       "    <tr>\n",
       "      <th>4</th>\n",
       "      <td>Dr X</td>\n",
       "      <td>2022-05-31</td>\n",
       "      <td>0</td>\n",
       "    </tr>\n",
       "    <tr>\n",
       "      <th>5</th>\n",
       "      <td>Luke Cage</td>\n",
       "      <td>2022-05-30</td>\n",
       "      <td>0</td>\n",
       "    </tr>\n",
       "    <tr>\n",
       "      <th>6</th>\n",
       "      <td>Mr Fantastic</td>\n",
       "      <td>2022-05-30</td>\n",
       "      <td>0</td>\n",
       "    </tr>\n",
       "    <tr>\n",
       "      <th>7</th>\n",
       "      <td>Mr Fantastic</td>\n",
       "      <td>2022-05-31</td>\n",
       "      <td>1</td>\n",
       "    </tr>\n",
       "    <tr>\n",
       "      <th>8</th>\n",
       "      <td>Peeping Tom</td>\n",
       "      <td>2022-05-29</td>\n",
       "      <td>0</td>\n",
       "    </tr>\n",
       "    <tr>\n",
       "      <th>9</th>\n",
       "      <td>Peeping Tom</td>\n",
       "      <td>2022-05-30</td>\n",
       "      <td>1</td>\n",
       "    </tr>\n",
       "    <tr>\n",
       "      <th>10</th>\n",
       "      <td>Spiderman</td>\n",
       "      <td>2022-05-30</td>\n",
       "      <td>1</td>\n",
       "    </tr>\n",
       "    <tr>\n",
       "      <th>11</th>\n",
       "      <td>The Comedian</td>\n",
       "      <td>2022-05-29</td>\n",
       "      <td>1</td>\n",
       "    </tr>\n",
       "    <tr>\n",
       "      <th>12</th>\n",
       "      <td>The Comedian</td>\n",
       "      <td>2022-05-31</td>\n",
       "      <td>1</td>\n",
       "    </tr>\n",
       "    <tr>\n",
       "      <th>13</th>\n",
       "      <td>Wolverine</td>\n",
       "      <td>2022-05-31</td>\n",
       "      <td>1</td>\n",
       "    </tr>\n",
       "  </tbody>\n",
       "</table>\n",
       "</div>"
      ],
      "text/plain": [
       "       superhero        date  active_on_duty\n",
       "0      Daredevil  2022-05-29               1\n",
       "1       Deadpool  2022-05-29               1\n",
       "2       Deadpool  2022-05-30               0\n",
       "3       Deadpool  2022-05-31               0\n",
       "4           Dr X  2022-05-31               0\n",
       "5      Luke Cage  2022-05-30               0\n",
       "6   Mr Fantastic  2022-05-30               0\n",
       "7   Mr Fantastic  2022-05-31               1\n",
       "8    Peeping Tom  2022-05-29               0\n",
       "9    Peeping Tom  2022-05-30               1\n",
       "10     Spiderman  2022-05-30               1\n",
       "11  The Comedian  2022-05-29               1\n",
       "12  The Comedian  2022-05-31               1\n",
       "13     Wolverine  2022-05-31               1"
      ]
     },
     "execution_count": 4,
     "metadata": {},
     "output_type": "execute_result"
    }
   ],
   "source": [
    "df = pd.read_csv(\"../../data/superhero_timesheets.csv\")\n",
    "df"
   ]
  },
  {
   "cell_type": "markdown",
   "id": "15cbad41",
   "metadata": {},
   "source": [
    "#### Connect to your desired collection"
   ]
  },
  {
   "cell_type": "code",
   "execution_count": 5,
   "id": "d361683c",
   "metadata": {},
   "outputs": [],
   "source": [
    "db = firestore.client()\n",
    "doc_ref = db.collection(\"superhero_timesheets\")"
   ]
  },
  {
   "cell_type": "markdown",
   "id": "d1252f3a",
   "metadata": {},
   "source": [
    "#### Bootstrap all records"
   ]
  },
  {
   "cell_type": "code",
   "execution_count": 6,
   "id": "52d23541",
   "metadata": {},
   "outputs": [
    {
     "name": "stdout",
     "output_type": "stream",
     "text": [
      "CPU times: user 209 ms, sys: 108 ms, total: 317 ms\n",
      "Wall time: 6.76 s\n"
     ]
    },
    {
     "data": {
      "text/plain": [
       "[(DatetimeWithNanoseconds(2022, 5, 31, 11, 17, 21, 824538, tzinfo=datetime.timezone.utc),\n",
       "  <google.cloud.firestore_v1.document.DocumentReference at 0x107bb5370>),\n",
       " (DatetimeWithNanoseconds(2022, 5, 31, 11, 17, 22, 65025, tzinfo=datetime.timezone.utc),\n",
       "  <google.cloud.firestore_v1.document.DocumentReference at 0x1307521f0>),\n",
       " (DatetimeWithNanoseconds(2022, 5, 31, 11, 17, 22, 597905, tzinfo=datetime.timezone.utc),\n",
       "  <google.cloud.firestore_v1.document.DocumentReference at 0x13075dd30>),\n",
       " (DatetimeWithNanoseconds(2022, 5, 31, 11, 17, 22, 882900, tzinfo=datetime.timezone.utc),\n",
       "  <google.cloud.firestore_v1.document.DocumentReference at 0x130752ca0>),\n",
       " (DatetimeWithNanoseconds(2022, 5, 31, 11, 17, 23, 417508, tzinfo=datetime.timezone.utc),\n",
       "  <google.cloud.firestore_v1.document.DocumentReference at 0x13075df70>),\n",
       " (DatetimeWithNanoseconds(2022, 5, 31, 11, 17, 23, 717888, tzinfo=datetime.timezone.utc),\n",
       "  <google.cloud.firestore_v1.document.DocumentReference at 0x130752b50>),\n",
       " (DatetimeWithNanoseconds(2022, 5, 31, 11, 17, 24, 200912, tzinfo=datetime.timezone.utc),\n",
       "  <google.cloud.firestore_v1.document.DocumentReference at 0x13075dee0>),\n",
       " (DatetimeWithNanoseconds(2022, 5, 31, 11, 17, 24, 519864, tzinfo=datetime.timezone.utc),\n",
       "  <google.cloud.firestore_v1.document.DocumentReference at 0x130752070>),\n",
       " (DatetimeWithNanoseconds(2022, 5, 31, 11, 17, 24, 944584, tzinfo=datetime.timezone.utc),\n",
       "  <google.cloud.firestore_v1.document.DocumentReference at 0x13075dca0>),\n",
       " (DatetimeWithNanoseconds(2022, 5, 31, 11, 17, 25, 338009, tzinfo=datetime.timezone.utc),\n",
       "  <google.cloud.firestore_v1.document.DocumentReference at 0x130752610>),\n",
       " (DatetimeWithNanoseconds(2022, 5, 31, 11, 17, 25, 701248, tzinfo=datetime.timezone.utc),\n",
       "  <google.cloud.firestore_v1.document.DocumentReference at 0x130752b80>),\n",
       " (DatetimeWithNanoseconds(2022, 5, 31, 11, 17, 26, 164784, tzinfo=datetime.timezone.utc),\n",
       "  <google.cloud.firestore_v1.document.DocumentReference at 0x13075de50>),\n",
       " (DatetimeWithNanoseconds(2022, 5, 31, 11, 17, 26, 631548, tzinfo=datetime.timezone.utc),\n",
       "  <google.cloud.firestore_v1.document.DocumentReference at 0x13075de80>),\n",
       " (DatetimeWithNanoseconds(2022, 5, 31, 11, 17, 26, 913037, tzinfo=datetime.timezone.utc),\n",
       "  <google.cloud.firestore_v1.document.DocumentReference at 0x13075dfa0>)]"
      ]
     },
     "execution_count": 6,
     "metadata": {},
     "output_type": "execute_result"
    }
   ],
   "source": [
    "%%time\n",
    "tmp = df.to_dict(orient=\"records\")\n",
    "\n",
    "list(map(lambda x: doc_ref.add(x), tmp))"
   ]
  },
  {
   "cell_type": "markdown",
   "id": "b51c22ee",
   "metadata": {},
   "source": [
    "#### Query to fetch all records for today"
   ]
  },
  {
   "cell_type": "code",
   "execution_count": 7,
   "id": "bb055778",
   "metadata": {},
   "outputs": [
    {
     "data": {
      "text/html": [
       "<div>\n",
       "<style scoped>\n",
       "    .dataframe tbody tr th:only-of-type {\n",
       "        vertical-align: middle;\n",
       "    }\n",
       "\n",
       "    .dataframe tbody tr th {\n",
       "        vertical-align: top;\n",
       "    }\n",
       "\n",
       "    .dataframe thead th {\n",
       "        text-align: right;\n",
       "    }\n",
       "</style>\n",
       "<table border=\"1\" class=\"dataframe\">\n",
       "  <thead>\n",
       "    <tr style=\"text-align: right;\">\n",
       "      <th></th>\n",
       "      <th>active_on_duty</th>\n",
       "      <th>superhero</th>\n",
       "      <th>date</th>\n",
       "    </tr>\n",
       "  </thead>\n",
       "  <tbody>\n",
       "    <tr>\n",
       "      <th>0</th>\n",
       "      <td>1</td>\n",
       "      <td>Mr Fantastic</td>\n",
       "      <td>2022-05-31</td>\n",
       "    </tr>\n",
       "    <tr>\n",
       "      <th>1</th>\n",
       "      <td>0</td>\n",
       "      <td>Deadpool</td>\n",
       "      <td>2022-05-31</td>\n",
       "    </tr>\n",
       "    <tr>\n",
       "      <th>2</th>\n",
       "      <td>1</td>\n",
       "      <td>Wolverine</td>\n",
       "      <td>2022-05-31</td>\n",
       "    </tr>\n",
       "    <tr>\n",
       "      <th>3</th>\n",
       "      <td>0</td>\n",
       "      <td>Dr X</td>\n",
       "      <td>2022-05-31</td>\n",
       "    </tr>\n",
       "    <tr>\n",
       "      <th>4</th>\n",
       "      <td>1</td>\n",
       "      <td>The Comedian</td>\n",
       "      <td>2022-05-31</td>\n",
       "    </tr>\n",
       "  </tbody>\n",
       "</table>\n",
       "</div>"
      ],
      "text/plain": [
       "   active_on_duty     superhero        date\n",
       "0               1  Mr Fantastic  2022-05-31\n",
       "1               0      Deadpool  2022-05-31\n",
       "2               1     Wolverine  2022-05-31\n",
       "3               0          Dr X  2022-05-31\n",
       "4               1  The Comedian  2022-05-31"
      ]
     },
     "execution_count": 7,
     "metadata": {},
     "output_type": "execute_result"
    }
   ],
   "source": [
    "today = pd.Timestamp.now().date()\n",
    "res_0 = pd.DataFrame([\n",
    "    doc.to_dict() for doc in db.collection(u\"superhero_timesheets\").where(u\"date\", u\">=\", str(today)).stream()\n",
    "])\n",
    "\n",
    "res_0"
   ]
  },
  {
   "cell_type": "markdown",
   "id": "3642add4",
   "metadata": {},
   "source": [
    "#### Adding a record"
   ]
  },
  {
   "cell_type": "code",
   "execution_count": 11,
   "id": "2ec90efd",
   "metadata": {},
   "outputs": [
    {
     "name": "stdout",
     "output_type": "stream",
     "text": [
      "CPU times: user 7.91 ms, sys: 7.75 ms, total: 15.7 ms\n",
      "Wall time: 392 ms\n"
     ]
    },
    {
     "data": {
      "text/plain": [
       "(DatetimeWithNanoseconds(2022, 5, 31, 11, 18, 6, 234837, tzinfo=datetime.timezone.utc),\n",
       " <google.cloud.firestore_v1.document.DocumentReference at 0x1306e0a60>)"
      ]
     },
     "execution_count": 11,
     "metadata": {},
     "output_type": "execute_result"
    }
   ],
   "source": [
    "%%time\n",
    "doc_ref.add({\n",
    "    \"superhero\": \"Raphael\",\n",
    "    \"active_on_duty\": 1,\n",
    "    \"date\": \"2022-05-31\"\n",
    "})"
   ]
  },
  {
   "cell_type": "code",
   "execution_count": 12,
   "id": "65273ef3",
   "metadata": {},
   "outputs": [
    {
     "data": {
      "text/html": [
       "<div>\n",
       "<style scoped>\n",
       "    .dataframe tbody tr th:only-of-type {\n",
       "        vertical-align: middle;\n",
       "    }\n",
       "\n",
       "    .dataframe tbody tr th {\n",
       "        vertical-align: top;\n",
       "    }\n",
       "\n",
       "    .dataframe thead th {\n",
       "        text-align: right;\n",
       "    }\n",
       "</style>\n",
       "<table border=\"1\" class=\"dataframe\">\n",
       "  <thead>\n",
       "    <tr style=\"text-align: right;\">\n",
       "      <th></th>\n",
       "      <th>superhero</th>\n",
       "      <th>active_on_duty</th>\n",
       "      <th>date</th>\n",
       "    </tr>\n",
       "  </thead>\n",
       "  <tbody>\n",
       "    <tr>\n",
       "      <th>0</th>\n",
       "      <td>Raphael</td>\n",
       "      <td>1</td>\n",
       "      <td>2022-05-31</td>\n",
       "    </tr>\n",
       "    <tr>\n",
       "      <th>1</th>\n",
       "      <td>Mr Fantastic</td>\n",
       "      <td>1</td>\n",
       "      <td>2022-05-31</td>\n",
       "    </tr>\n",
       "    <tr>\n",
       "      <th>2</th>\n",
       "      <td>Deadpool</td>\n",
       "      <td>0</td>\n",
       "      <td>2022-05-31</td>\n",
       "    </tr>\n",
       "    <tr>\n",
       "      <th>3</th>\n",
       "      <td>Wolverine</td>\n",
       "      <td>1</td>\n",
       "      <td>2022-05-31</td>\n",
       "    </tr>\n",
       "    <tr>\n",
       "      <th>4</th>\n",
       "      <td>Leonardo</td>\n",
       "      <td>1</td>\n",
       "      <td>2022-05-31</td>\n",
       "    </tr>\n",
       "    <tr>\n",
       "      <th>5</th>\n",
       "      <td>Dr X</td>\n",
       "      <td>0</td>\n",
       "      <td>2022-05-31</td>\n",
       "    </tr>\n",
       "    <tr>\n",
       "      <th>6</th>\n",
       "      <td>The Comedian</td>\n",
       "      <td>1</td>\n",
       "      <td>2022-05-31</td>\n",
       "    </tr>\n",
       "    <tr>\n",
       "      <th>7</th>\n",
       "      <td>Donatello</td>\n",
       "      <td>1</td>\n",
       "      <td>2022-05-31</td>\n",
       "    </tr>\n",
       "    <tr>\n",
       "      <th>8</th>\n",
       "      <td>Michaelangelo</td>\n",
       "      <td>1</td>\n",
       "      <td>2022-05-31</td>\n",
       "    </tr>\n",
       "  </tbody>\n",
       "</table>\n",
       "</div>"
      ],
      "text/plain": [
       "       superhero  active_on_duty        date\n",
       "0        Raphael               1  2022-05-31\n",
       "1   Mr Fantastic               1  2022-05-31\n",
       "2       Deadpool               0  2022-05-31\n",
       "3      Wolverine               1  2022-05-31\n",
       "4       Leonardo               1  2022-05-31\n",
       "5           Dr X               0  2022-05-31\n",
       "6   The Comedian               1  2022-05-31\n",
       "7      Donatello               1  2022-05-31\n",
       "8  Michaelangelo               1  2022-05-31"
      ]
     },
     "execution_count": 12,
     "metadata": {},
     "output_type": "execute_result"
    }
   ],
   "source": [
    "res_1 = pd.DataFrame([\n",
    "    doc.to_dict() for doc in db.collection(u\"superhero_timesheets\").where(u\"date\", u\">=\", str(today)).stream()\n",
    "])\n",
    "\n",
    "res_1"
   ]
  },
  {
   "cell_type": "markdown",
   "id": "73429d14",
   "metadata": {},
   "source": [
    "#### Dropping a collection"
   ]
  },
  {
   "cell_type": "code",
   "execution_count": 13,
   "id": "4d5929d4",
   "metadata": {},
   "outputs": [
    {
     "name": "stdout",
     "output_type": "stream",
     "text": [
      "Deleting doc 1fht7jh4HBmDzAAdSnPn => {'date': '2022-05-29', 'superhero': 'Peeping Tom', 'active_on_duty': 0}\n",
      "Deleting doc 3pSiTCpRkHjenrKn0nZm => {'active_on_duty': 0, 'date': '2022-05-30', 'superhero': 'Mr Fantastic'}\n",
      "Deleting doc 4HxCsLyX8bKLErWoQ7Bo => {'active_on_duty': 1, 'superhero': 'Raphael', 'date': '2022-05-31'}\n",
      "Deleting doc 6o7Yht6e9TPS7yYaJuIr => {'superhero': 'Mr Fantastic', 'active_on_duty': 1, 'date': '2022-05-31'}\n",
      "Deleting doc AlrXwf4lsMj4fsMSdktN => {'superhero': 'Deadpool', 'date': '2022-05-31', 'active_on_duty': 0}\n",
      "Deleting doc D4YMalQ8V6m6UcGQFkpI => {'superhero': 'Peeping Tom', 'date': '2022-05-30', 'active_on_duty': 1}\n",
      "Deleting doc DTlPHyHLewvaSZqLhCqi => {'date': '2022-05-30', 'active_on_duty': 1, 'superhero': 'Spiderman'}\n",
      "Deleting doc Oo7wJLe57NxQLy2b16vA => {'date': '2022-05-29', 'active_on_duty': 1, 'superhero': 'Daredevil'}\n",
      "Deleting doc Pbvp4iSQqXjLYAXyU69B => {'active_on_duty': 0, 'superhero': 'Luke Cage', 'date': '2022-05-30'}\n",
      "Deleting doc TpArgPjqmA1Csw0gsvYz => {'superhero': 'Deadpool', 'date': '2022-05-29', 'active_on_duty': 1}\n",
      "Deleting doc UiL0DwMY1egnIUSpI4pd => {'superhero': 'Wolverine', 'date': '2022-05-31', 'active_on_duty': 1}\n",
      "Deleting doc eVZwwG6diohJS4ecUuKx => {'active_on_duty': 1, 'superhero': 'The Comedian', 'date': '2022-05-29'}\n",
      "Deleting doc fdi95J7IRxvv9cuFvShZ => {'superhero': 'Leonardo', 'active_on_duty': 1, 'date': '2022-05-31'}\n",
      "Deleting doc jeQqtxJosgM2iQPKLxJH => {'date': '2022-05-31', 'superhero': 'Dr X', 'active_on_duty': 0}\n",
      "Deleting doc w16NMTjUUjaHnigHpKf6 => {'date': '2022-05-31', 'superhero': 'The Comedian', 'active_on_duty': 1}\n",
      "Deleting doc xuuyzXbKlvGgDNMmIUfT => {'superhero': 'Deadpool', 'date': '2022-05-30', 'active_on_duty': 0}\n",
      "Deleting doc yUPPGm4YcBzXR5DCMlVy => {'date': '2022-05-31', 'superhero': 'Donatello', 'active_on_duty': 1}\n",
      "Deleting doc z1UwKTZWUWkpAVQqoe15 => {'superhero': 'Michaelangelo', 'date': '2022-05-31', 'active_on_duty': 1}\n",
      "CPU times: user 169 ms, sys: 243 ms, total: 412 ms\n",
      "Wall time: 8.46 s\n"
     ]
    }
   ],
   "source": [
    "%%time\n",
    "def delete_collection(coll_ref, batch_size=200):\n",
    "    docs = coll_ref.limit(batch_size).stream()\n",
    "    deleted = 0\n",
    "\n",
    "    for doc in docs:\n",
    "        print(f'Deleting doc {doc.id} => {doc.to_dict()}')\n",
    "        doc.reference.delete()\n",
    "        deleted = deleted + 1\n",
    "\n",
    "    if deleted >= batch_size:\n",
    "        return delete_collection(coll_ref, batch_size)\n",
    "    \n",
    "delete_collection(doc_ref)"
   ]
  },
  {
   "cell_type": "markdown",
   "id": "573818b5",
   "metadata": {},
   "source": [
    "## Outro\n",
    "Thank you for following this workshop all the way to the ends. All credits to [Firebase Docs](https://firebase.google.com/docs) for code snippets used in this notebook."
   ]
  }
 ],
 "metadata": {
  "interpreter": {
   "hash": "c793117ae5d2678a81cad7342c660a9d1ee0c1491aecac95024b243d454c99c8"
  },
  "kernelspec": {
   "display_name": "Python 3 (ipykernel)",
   "language": "python",
   "name": "python3"
  },
  "language_info": {
   "codemirror_mode": {
    "name": "ipython",
    "version": 3
   },
   "file_extension": ".py",
   "mimetype": "text/x-python",
   "name": "python",
   "nbconvert_exporter": "python",
   "pygments_lexer": "ipython3",
   "version": "3.9.13"
  }
 },
 "nbformat": 4,
 "nbformat_minor": 5
}
