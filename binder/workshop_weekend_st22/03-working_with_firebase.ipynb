{
 "cells": [
  {
   "cell_type": "markdown",
   "id": "2ea41ddb",
   "metadata": {},
   "source": [
    "# Working with Cloud (Remote) Back-ends\n",
    "## So far\n",
    "- We've learnt to create a synthetic dataset\n",
    "- Train a logical function to make predictions from the synthetic dataset\n",
    "- Test and develop an API server with Flask\n",
    "- Deploy our prediction function to Heroku\n",
    "\n",
    "## In this section\n",
    "We will learn to interact with Google's Firebse and create a document collection **to demonstrate the usecase when our application needs to collect and store user data**.\n",
    "\n",
    "## Setup and Authentication"
   ]
  },
  {
   "cell_type": "code",
   "execution_count": 1,
   "id": "0925bc70",
   "metadata": {},
   "outputs": [],
   "source": [
    "import pandas as pd\n",
    "import firebase_admin\n",
    "from firebase_admin import credentials, firestore"
   ]
  },
  {
   "cell_type": "markdown",
   "id": "318ba3d6",
   "metadata": {},
   "source": [
    "#### Point to Firebase credentials"
   ]
  },
  {
   "cell_type": "code",
   "execution_count": 2,
   "id": "71aaa5a3",
   "metadata": {},
   "outputs": [],
   "source": [
    "cred = credentials.Certificate(\"../../configs/ww-save-nyc-firebase-adminsdk-eh9d8-5e01de8f8c.json\")"
   ]
  },
  {
   "cell_type": "markdown",
   "id": "ff3f6edf",
   "metadata": {},
   "source": [
    "#### Initialize firebase client as admin"
   ]
  },
  {
   "cell_type": "code",
   "execution_count": 3,
   "id": "4a4f885a",
   "metadata": {},
   "outputs": [
    {
     "data": {
      "text/plain": [
       "<firebase_admin.App at 0x122df04f0>"
      ]
     },
     "execution_count": 3,
     "metadata": {},
     "output_type": "execute_result"
    }
   ],
   "source": [
    "firebase_admin.initialize_app(cred,\n",
    "    {\n",
    "        \"databaseURL\": \"https://ww-save-nyc.firebaseio.com/\"\n",
    "})"
   ]
  },
  {
   "cell_type": "markdown",
   "id": "c83c3bb2",
   "metadata": {},
   "source": [
    "## Interfacing with your Firebase Collections"
   ]
  },
  {
   "cell_type": "markdown",
   "id": "69e92adb",
   "metadata": {},
   "source": [
    "#### Load data to bootstrap"
   ]
  },
  {
   "cell_type": "code",
   "execution_count": 4,
   "id": "b1957cee",
   "metadata": {},
   "outputs": [
    {
     "data": {
      "text/html": [
       "<div>\n",
       "<style scoped>\n",
       "    .dataframe tbody tr th:only-of-type {\n",
       "        vertical-align: middle;\n",
       "    }\n",
       "\n",
       "    .dataframe tbody tr th {\n",
       "        vertical-align: top;\n",
       "    }\n",
       "\n",
       "    .dataframe thead th {\n",
       "        text-align: right;\n",
       "    }\n",
       "</style>\n",
       "<table border=\"1\" class=\"dataframe\">\n",
       "  <thead>\n",
       "    <tr style=\"text-align: right;\">\n",
       "      <th></th>\n",
       "      <th>superhero</th>\n",
       "      <th>date</th>\n",
       "      <th>active_on_duty</th>\n",
       "    </tr>\n",
       "  </thead>\n",
       "  <tbody>\n",
       "    <tr>\n",
       "      <th>0</th>\n",
       "      <td>Daredevil</td>\n",
       "      <td>2022-05-29</td>\n",
       "      <td>1</td>\n",
       "    </tr>\n",
       "    <tr>\n",
       "      <th>1</th>\n",
       "      <td>Daredevil</td>\n",
       "      <td>2022-05-30</td>\n",
       "      <td>1</td>\n",
       "    </tr>\n",
       "    <tr>\n",
       "      <th>2</th>\n",
       "      <td>Daredevil</td>\n",
       "      <td>2022-05-31</td>\n",
       "      <td>1</td>\n",
       "    </tr>\n",
       "    <tr>\n",
       "      <th>3</th>\n",
       "      <td>Deadpool</td>\n",
       "      <td>2022-05-30</td>\n",
       "      <td>1</td>\n",
       "    </tr>\n",
       "    <tr>\n",
       "      <th>4</th>\n",
       "      <td>Deadpool</td>\n",
       "      <td>2022-05-31</td>\n",
       "      <td>1</td>\n",
       "    </tr>\n",
       "    <tr>\n",
       "      <th>5</th>\n",
       "      <td>Dr X</td>\n",
       "      <td>2022-05-29</td>\n",
       "      <td>0</td>\n",
       "    </tr>\n",
       "    <tr>\n",
       "      <th>6</th>\n",
       "      <td>Dr X</td>\n",
       "      <td>2022-05-30</td>\n",
       "      <td>1</td>\n",
       "    </tr>\n",
       "    <tr>\n",
       "      <th>7</th>\n",
       "      <td>Luke Cage</td>\n",
       "      <td>2022-05-30</td>\n",
       "      <td>0</td>\n",
       "    </tr>\n",
       "    <tr>\n",
       "      <th>8</th>\n",
       "      <td>Luke Cage</td>\n",
       "      <td>2022-05-31</td>\n",
       "      <td>0</td>\n",
       "    </tr>\n",
       "    <tr>\n",
       "      <th>9</th>\n",
       "      <td>Mr Fantastic</td>\n",
       "      <td>2022-05-31</td>\n",
       "      <td>1</td>\n",
       "    </tr>\n",
       "    <tr>\n",
       "      <th>10</th>\n",
       "      <td>Peeping Tom</td>\n",
       "      <td>2022-05-29</td>\n",
       "      <td>0</td>\n",
       "    </tr>\n",
       "    <tr>\n",
       "      <th>11</th>\n",
       "      <td>Peeping Tom</td>\n",
       "      <td>2022-05-31</td>\n",
       "      <td>1</td>\n",
       "    </tr>\n",
       "    <tr>\n",
       "      <th>12</th>\n",
       "      <td>Spiderman</td>\n",
       "      <td>2022-05-29</td>\n",
       "      <td>0</td>\n",
       "    </tr>\n",
       "    <tr>\n",
       "      <th>13</th>\n",
       "      <td>Spiderman</td>\n",
       "      <td>2022-05-30</td>\n",
       "      <td>1</td>\n",
       "    </tr>\n",
       "    <tr>\n",
       "      <th>14</th>\n",
       "      <td>Spiderman</td>\n",
       "      <td>2022-05-31</td>\n",
       "      <td>1</td>\n",
       "    </tr>\n",
       "    <tr>\n",
       "      <th>15</th>\n",
       "      <td>The Comedian</td>\n",
       "      <td>2022-05-29</td>\n",
       "      <td>1</td>\n",
       "    </tr>\n",
       "    <tr>\n",
       "      <th>16</th>\n",
       "      <td>Wolverine</td>\n",
       "      <td>2022-05-29</td>\n",
       "      <td>1</td>\n",
       "    </tr>\n",
       "    <tr>\n",
       "      <th>17</th>\n",
       "      <td>Wolverine</td>\n",
       "      <td>2022-05-31</td>\n",
       "      <td>1</td>\n",
       "    </tr>\n",
       "  </tbody>\n",
       "</table>\n",
       "</div>"
      ],
      "text/plain": [
       "       superhero        date  active_on_duty\n",
       "0      Daredevil  2022-05-29               1\n",
       "1      Daredevil  2022-05-30               1\n",
       "2      Daredevil  2022-05-31               1\n",
       "3       Deadpool  2022-05-30               1\n",
       "4       Deadpool  2022-05-31               1\n",
       "5           Dr X  2022-05-29               0\n",
       "6           Dr X  2022-05-30               1\n",
       "7      Luke Cage  2022-05-30               0\n",
       "8      Luke Cage  2022-05-31               0\n",
       "9   Mr Fantastic  2022-05-31               1\n",
       "10   Peeping Tom  2022-05-29               0\n",
       "11   Peeping Tom  2022-05-31               1\n",
       "12     Spiderman  2022-05-29               0\n",
       "13     Spiderman  2022-05-30               1\n",
       "14     Spiderman  2022-05-31               1\n",
       "15  The Comedian  2022-05-29               1\n",
       "16     Wolverine  2022-05-29               1\n",
       "17     Wolverine  2022-05-31               1"
      ]
     },
     "execution_count": 4,
     "metadata": {},
     "output_type": "execute_result"
    }
   ],
   "source": [
    "df = pd.read_csv(\"../../data/superhero_timesheets.csv\")\n",
    "df"
   ]
  },
  {
   "cell_type": "markdown",
   "id": "15cbad41",
   "metadata": {},
   "source": [
    "#### Connect to your desired collection"
   ]
  },
  {
   "cell_type": "code",
   "execution_count": 5,
   "id": "d361683c",
   "metadata": {},
   "outputs": [],
   "source": [
    "db = firestore.client()\n",
    "doc_ref = db.collection(\"superhero_timesheets\")"
   ]
  },
  {
   "cell_type": "markdown",
   "id": "d1252f3a",
   "metadata": {},
   "source": [
    "#### Bootstrap all records"
   ]
  },
  {
   "cell_type": "code",
   "execution_count": 6,
   "id": "52d23541",
   "metadata": {},
   "outputs": [
    {
     "name": "stdout",
     "output_type": "stream",
     "text": [
      "CPU times: user 200 ms, sys: 104 ms, total: 304 ms\n",
      "Wall time: 7.78 s\n"
     ]
    },
    {
     "data": {
      "text/plain": [
       "[(DatetimeWithNanoseconds(2022, 5, 31, 8, 57, 55, 650000, tzinfo=datetime.timezone.utc),\n",
       "  <google.cloud.firestore_v1.document.DocumentReference at 0x122f49760>),\n",
       " (DatetimeWithNanoseconds(2022, 5, 31, 8, 57, 55, 934642, tzinfo=datetime.timezone.utc),\n",
       "  <google.cloud.firestore_v1.document.DocumentReference at 0x105e14ee0>),\n",
       " (DatetimeWithNanoseconds(2022, 5, 31, 8, 57, 56, 580263, tzinfo=datetime.timezone.utc),\n",
       "  <google.cloud.firestore_v1.document.DocumentReference at 0x122da3e20>),\n",
       " (DatetimeWithNanoseconds(2022, 5, 31, 8, 57, 56, 810825, tzinfo=datetime.timezone.utc),\n",
       "  <google.cloud.firestore_v1.document.DocumentReference at 0x122f10e50>),\n",
       " (DatetimeWithNanoseconds(2022, 5, 31, 8, 57, 57, 307917, tzinfo=datetime.timezone.utc),\n",
       "  <google.cloud.firestore_v1.document.DocumentReference at 0x122df0e50>),\n",
       " (DatetimeWithNanoseconds(2022, 5, 31, 8, 57, 57, 582411, tzinfo=datetime.timezone.utc),\n",
       "  <google.cloud.firestore_v1.document.DocumentReference at 0x122f522e0>),\n",
       " (DatetimeWithNanoseconds(2022, 5, 31, 8, 57, 58, 57257, tzinfo=datetime.timezone.utc),\n",
       "  <google.cloud.firestore_v1.document.DocumentReference at 0x122f52130>),\n",
       " (DatetimeWithNanoseconds(2022, 5, 31, 8, 57, 58, 318261, tzinfo=datetime.timezone.utc),\n",
       "  <google.cloud.firestore_v1.document.DocumentReference at 0x122f49d90>),\n",
       " (DatetimeWithNanoseconds(2022, 5, 31, 8, 57, 58, 803592, tzinfo=datetime.timezone.utc),\n",
       "  <google.cloud.firestore_v1.document.DocumentReference at 0x122f49b20>),\n",
       " (DatetimeWithNanoseconds(2022, 5, 31, 8, 57, 59, 156181, tzinfo=datetime.timezone.utc),\n",
       "  <google.cloud.firestore_v1.document.DocumentReference at 0x122f49cd0>),\n",
       " (DatetimeWithNanoseconds(2022, 5, 31, 8, 57, 59, 644751, tzinfo=datetime.timezone.utc),\n",
       "  <google.cloud.firestore_v1.document.DocumentReference at 0x122f49fa0>),\n",
       " (DatetimeWithNanoseconds(2022, 5, 31, 8, 57, 59, 903747, tzinfo=datetime.timezone.utc),\n",
       "  <google.cloud.firestore_v1.document.DocumentReference at 0x122f49f40>),\n",
       " (DatetimeWithNanoseconds(2022, 5, 31, 8, 58, 0, 405474, tzinfo=datetime.timezone.utc),\n",
       "  <google.cloud.firestore_v1.document.DocumentReference at 0x122f49c70>),\n",
       " (DatetimeWithNanoseconds(2022, 5, 31, 8, 58, 0, 700583, tzinfo=datetime.timezone.utc),\n",
       "  <google.cloud.firestore_v1.document.DocumentReference at 0x122f49940>),\n",
       " (DatetimeWithNanoseconds(2022, 5, 31, 8, 58, 1, 156274, tzinfo=datetime.timezone.utc),\n",
       "  <google.cloud.firestore_v1.document.DocumentReference at 0x122daf820>),\n",
       " (DatetimeWithNanoseconds(2022, 5, 31, 8, 58, 1, 469501, tzinfo=datetime.timezone.utc),\n",
       "  <google.cloud.firestore_v1.document.DocumentReference at 0x122daf160>),\n",
       " (DatetimeWithNanoseconds(2022, 5, 31, 8, 58, 2, 1358, tzinfo=datetime.timezone.utc),\n",
       "  <google.cloud.firestore_v1.document.DocumentReference at 0x122f6bca0>),\n",
       " (DatetimeWithNanoseconds(2022, 5, 31, 8, 58, 2, 279024, tzinfo=datetime.timezone.utc),\n",
       "  <google.cloud.firestore_v1.document.DocumentReference at 0x122f6ba90>)]"
      ]
     },
     "execution_count": 6,
     "metadata": {},
     "output_type": "execute_result"
    }
   ],
   "source": [
    "%%time\n",
    "tmp = df.to_dict(orient=\"records\")\n",
    "\n",
    "list(map(lambda x: doc_ref.add(x), tmp))"
   ]
  },
  {
   "cell_type": "markdown",
   "id": "b51c22ee",
   "metadata": {},
   "source": [
    "#### Query to fetch all records for today"
   ]
  },
  {
   "cell_type": "code",
   "execution_count": 7,
   "id": "bb055778",
   "metadata": {},
   "outputs": [
    {
     "data": {
      "text/html": [
       "<div>\n",
       "<style scoped>\n",
       "    .dataframe tbody tr th:only-of-type {\n",
       "        vertical-align: middle;\n",
       "    }\n",
       "\n",
       "    .dataframe tbody tr th {\n",
       "        vertical-align: top;\n",
       "    }\n",
       "\n",
       "    .dataframe thead th {\n",
       "        text-align: right;\n",
       "    }\n",
       "</style>\n",
       "<table border=\"1\" class=\"dataframe\">\n",
       "  <thead>\n",
       "    <tr style=\"text-align: right;\">\n",
       "      <th></th>\n",
       "      <th>active_on_duty</th>\n",
       "      <th>superhero</th>\n",
       "      <th>date</th>\n",
       "    </tr>\n",
       "  </thead>\n",
       "  <tbody>\n",
       "    <tr>\n",
       "      <th>0</th>\n",
       "      <td>1</td>\n",
       "      <td>Peeping Tom</td>\n",
       "      <td>2022-05-31</td>\n",
       "    </tr>\n",
       "    <tr>\n",
       "      <th>1</th>\n",
       "      <td>0</td>\n",
       "      <td>Luke Cage</td>\n",
       "      <td>2022-05-31</td>\n",
       "    </tr>\n",
       "    <tr>\n",
       "      <th>2</th>\n",
       "      <td>1</td>\n",
       "      <td>Spiderman</td>\n",
       "      <td>2022-05-31</td>\n",
       "    </tr>\n",
       "    <tr>\n",
       "      <th>3</th>\n",
       "      <td>1</td>\n",
       "      <td>Mr Fantastic</td>\n",
       "      <td>2022-05-31</td>\n",
       "    </tr>\n",
       "    <tr>\n",
       "      <th>4</th>\n",
       "      <td>1</td>\n",
       "      <td>Deadpool</td>\n",
       "      <td>2022-05-31</td>\n",
       "    </tr>\n",
       "    <tr>\n",
       "      <th>5</th>\n",
       "      <td>1</td>\n",
       "      <td>Daredevil</td>\n",
       "      <td>2022-05-31</td>\n",
       "    </tr>\n",
       "    <tr>\n",
       "      <th>6</th>\n",
       "      <td>1</td>\n",
       "      <td>Wolverine</td>\n",
       "      <td>2022-05-31</td>\n",
       "    </tr>\n",
       "  </tbody>\n",
       "</table>\n",
       "</div>"
      ],
      "text/plain": [
       "   active_on_duty     superhero        date\n",
       "0               1   Peeping Tom  2022-05-31\n",
       "1               0     Luke Cage  2022-05-31\n",
       "2               1     Spiderman  2022-05-31\n",
       "3               1  Mr Fantastic  2022-05-31\n",
       "4               1      Deadpool  2022-05-31\n",
       "5               1     Daredevil  2022-05-31\n",
       "6               1     Wolverine  2022-05-31"
      ]
     },
     "execution_count": 7,
     "metadata": {},
     "output_type": "execute_result"
    }
   ],
   "source": [
    "today = pd.Timestamp.now().date()\n",
    "res_0 = pd.DataFrame([\n",
    "    doc.to_dict() for doc in db.collection(u\"superhero_timesheets\").where(u\"date\", u\">=\", str(today)).stream()\n",
    "])\n",
    "\n",
    "res_0"
   ]
  },
  {
   "cell_type": "markdown",
   "id": "3642add4",
   "metadata": {},
   "source": [
    "#### Adding a record"
   ]
  },
  {
   "cell_type": "code",
   "execution_count": 8,
   "id": "2ec90efd",
   "metadata": {},
   "outputs": [
    {
     "name": "stdout",
     "output_type": "stream",
     "text": [
      "CPU times: user 5.48 ms, sys: 5.83 ms, total: 11.3 ms\n",
      "Wall time: 219 ms\n"
     ]
    },
    {
     "data": {
      "text/plain": [
       "(DatetimeWithNanoseconds(2022, 5, 31, 8, 58, 3, 138363, tzinfo=datetime.timezone.utc),\n",
       " <google.cloud.firestore_v1.document.DocumentReference at 0x122f6b4f0>)"
      ]
     },
     "execution_count": 8,
     "metadata": {},
     "output_type": "execute_result"
    }
   ],
   "source": [
    "%%time\n",
    "doc_ref.add({\n",
    "    \"superhero\": \"Leonardo\",\n",
    "    \"active_on_duty\": 1,\n",
    "    \"date\": \"2022-05-31\"\n",
    "})"
   ]
  },
  {
   "cell_type": "code",
   "execution_count": 9,
   "id": "65273ef3",
   "metadata": {},
   "outputs": [
    {
     "data": {
      "text/html": [
       "<div>\n",
       "<style scoped>\n",
       "    .dataframe tbody tr th:only-of-type {\n",
       "        vertical-align: middle;\n",
       "    }\n",
       "\n",
       "    .dataframe tbody tr th {\n",
       "        vertical-align: top;\n",
       "    }\n",
       "\n",
       "    .dataframe thead th {\n",
       "        text-align: right;\n",
       "    }\n",
       "</style>\n",
       "<table border=\"1\" class=\"dataframe\">\n",
       "  <thead>\n",
       "    <tr style=\"text-align: right;\">\n",
       "      <th></th>\n",
       "      <th>superhero</th>\n",
       "      <th>date</th>\n",
       "      <th>active_on_duty</th>\n",
       "    </tr>\n",
       "  </thead>\n",
       "  <tbody>\n",
       "    <tr>\n",
       "      <th>0</th>\n",
       "      <td>Peeping Tom</td>\n",
       "      <td>2022-05-31</td>\n",
       "      <td>1</td>\n",
       "    </tr>\n",
       "    <tr>\n",
       "      <th>1</th>\n",
       "      <td>Luke Cage</td>\n",
       "      <td>2022-05-31</td>\n",
       "      <td>0</td>\n",
       "    </tr>\n",
       "    <tr>\n",
       "      <th>2</th>\n",
       "      <td>Spiderman</td>\n",
       "      <td>2022-05-31</td>\n",
       "      <td>1</td>\n",
       "    </tr>\n",
       "    <tr>\n",
       "      <th>3</th>\n",
       "      <td>Leonardo</td>\n",
       "      <td>2022-05-31</td>\n",
       "      <td>1</td>\n",
       "    </tr>\n",
       "    <tr>\n",
       "      <th>4</th>\n",
       "      <td>Mr Fantastic</td>\n",
       "      <td>2022-05-31</td>\n",
       "      <td>1</td>\n",
       "    </tr>\n",
       "    <tr>\n",
       "      <th>5</th>\n",
       "      <td>Deadpool</td>\n",
       "      <td>2022-05-31</td>\n",
       "      <td>1</td>\n",
       "    </tr>\n",
       "    <tr>\n",
       "      <th>6</th>\n",
       "      <td>Daredevil</td>\n",
       "      <td>2022-05-31</td>\n",
       "      <td>1</td>\n",
       "    </tr>\n",
       "    <tr>\n",
       "      <th>7</th>\n",
       "      <td>Wolverine</td>\n",
       "      <td>2022-05-31</td>\n",
       "      <td>1</td>\n",
       "    </tr>\n",
       "  </tbody>\n",
       "</table>\n",
       "</div>"
      ],
      "text/plain": [
       "      superhero        date  active_on_duty\n",
       "0   Peeping Tom  2022-05-31               1\n",
       "1     Luke Cage  2022-05-31               0\n",
       "2     Spiderman  2022-05-31               1\n",
       "3      Leonardo  2022-05-31               1\n",
       "4  Mr Fantastic  2022-05-31               1\n",
       "5      Deadpool  2022-05-31               1\n",
       "6     Daredevil  2022-05-31               1\n",
       "7     Wolverine  2022-05-31               1"
      ]
     },
     "execution_count": 9,
     "metadata": {},
     "output_type": "execute_result"
    }
   ],
   "source": [
    "res_1 = pd.DataFrame([\n",
    "    doc.to_dict() for doc in db.collection(u\"superhero_timesheets\").where(u\"date\", u\">=\", str(today)).stream()\n",
    "])\n",
    "\n",
    "res_1"
   ]
  },
  {
   "cell_type": "markdown",
   "id": "73429d14",
   "metadata": {},
   "source": [
    "#### Dropping a collection"
   ]
  },
  {
   "cell_type": "code",
   "execution_count": 10,
   "id": "4d5929d4",
   "metadata": {},
   "outputs": [
    {
     "name": "stdout",
     "output_type": "stream",
     "text": [
      "Deleting doc 0AqvpH6bzbV5Nf54RBfp => {'superhero': 'Peeping Tom', 'active_on_duty': 1, 'date': '2022-05-31'}\n",
      "Deleting doc 2nQwqMjDbRtqTUc98oRE => {'date': '2022-05-29', 'superhero': 'The Comedian', 'active_on_duty': 1}\n",
      "Deleting doc 397oZwQ6exWcBF8gjeIw => {'superhero': 'Deadpool', 'date': '2022-05-30', 'active_on_duty': 1}\n",
      "Deleting doc 39G5lXjOR5G5WgLyX0DH => {'active_on_duty': 0, 'date': '2022-05-31', 'superhero': 'Luke Cage'}\n",
      "Deleting doc 9DeWpHv84aBLVebEvKqy => {'superhero': 'Spiderman', 'date': '2022-05-31', 'active_on_duty': 1}\n",
      "Deleting doc A0BTIamYqmhEYPmKy1yB => {'superhero': 'Luke Cage', 'active_on_duty': 0, 'date': '2022-05-30'}\n",
      "Deleting doc A5dT5iA1SQBkyL7ofTFy => {'superhero': 'Leonardo', 'date': '2022-05-31', 'active_on_duty': 1}\n",
      "Deleting doc Jx8ntuHehvJCaG53vKYK => {'superhero': 'Mr Fantastic', 'date': '2022-05-31', 'active_on_duty': 1}\n",
      "Deleting doc LEM1c8JF5mG6dYObklvv => {'active_on_duty': 1, 'superhero': 'Wolverine', 'date': '2022-05-29'}\n",
      "Deleting doc Om4PKPbP1IuoD4xwlt9v => {'superhero': 'Peeping Tom', 'active_on_duty': 0, 'date': '2022-05-29'}\n",
      "Deleting doc TKfpjQKitHHfUhvthHOS => {'superhero': 'Daredevil', 'active_on_duty': 1, 'date': '2022-05-29'}\n",
      "Deleting doc TmKMgITgE2c1v2VZQUHT => {'date': '2022-05-31', 'superhero': 'Deadpool', 'active_on_duty': 1}\n",
      "Deleting doc U81viwFnsp4K9uu3Mxyo => {'superhero': 'Dr X', 'active_on_duty': 1, 'date': '2022-05-30'}\n",
      "Deleting doc WPtthCs4VXNMni3jk6th => {'date': '2022-05-29', 'superhero': 'Dr X', 'active_on_duty': 0}\n",
      "Deleting doc cY5W4TOUiNd65ruvaEuA => {'superhero': 'Daredevil', 'active_on_duty': 1, 'date': '2022-05-30'}\n",
      "Deleting doc jqTLPk9sTdwFYlK6df8k => {'active_on_duty': 1, 'superhero': 'Daredevil', 'date': '2022-05-31'}\n",
      "Deleting doc r4hYTmi87uMKmNIme0IS => {'date': '2022-05-31', 'superhero': 'Wolverine', 'active_on_duty': 1}\n",
      "Deleting doc tumAESxnp60r26sOctMy => {'active_on_duty': 1, 'date': '2022-05-30', 'superhero': 'Spiderman'}\n",
      "Deleting doc u2DDORZhY5VzWLeldKnz => {'date': '2022-05-29', 'active_on_duty': 0, 'superhero': 'Spiderman'}\n",
      "CPU times: user 180 ms, sys: 257 ms, total: 437 ms\n",
      "Wall time: 8 s\n"
     ]
    }
   ],
   "source": [
    "%%time\n",
    "def delete_collection(coll_ref, batch_size=200):\n",
    "    docs = coll_ref.limit(batch_size).stream()\n",
    "    deleted = 0\n",
    "\n",
    "    for doc in docs:\n",
    "        print(f'Deleting doc {doc.id} => {doc.to_dict()}')\n",
    "        doc.reference.delete()\n",
    "        deleted = deleted + 1\n",
    "\n",
    "    if deleted >= batch_size:\n",
    "        return delete_collection(coll_ref, batch_size)\n",
    "    \n",
    "delete_collection(doc_ref)"
   ]
  },
  {
   "cell_type": "markdown",
   "id": "573818b5",
   "metadata": {},
   "source": [
    "## Outro\n",
    "Thank you for following this workshop all the way to the ends. All credits to [Firebase Docs](https://firebase.google.com/docs) for code snippets used in this notebook."
   ]
  }
 ],
 "metadata": {
  "kernelspec": {
   "display_name": ".env",
   "language": "python",
   "name": ".env"
  },
  "language_info": {
   "codemirror_mode": {
    "name": "ipython",
    "version": 3
   },
   "file_extension": ".py",
   "mimetype": "text/x-python",
   "name": "python",
   "nbconvert_exporter": "python",
   "pygments_lexer": "ipython3",
   "version": "3.9.13"
  }
 },
 "nbformat": 4,
 "nbformat_minor": 5
}
