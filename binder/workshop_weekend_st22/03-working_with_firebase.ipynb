{
 "cells": [
  {
   "cell_type": "markdown",
   "id": "2ea41ddb",
   "metadata": {},
   "source": [
    "# Working with Cloud (Remote) Back-ends\n",
    "## So far\n",
    "- We've learnt to create a synthetic dataset\n",
    "- Train a logical function to make predictions from the synthetic dataset\n",
    "- Test and develop an API server with Flask\n",
    "- Deploy our prediction function to Heroku\n",
    "\n",
    "## In this section\n",
    "We will learn to interact with Google's Firebse and create a document collection **to demonstrate the usecase when our application needs to collect and store user data**.\n",
    "\n",
    "## Setup and Authentication"
   ]
  },
  {
   "cell_type": "code",
   "execution_count": 1,
   "id": "0925bc70",
   "metadata": {},
   "outputs": [],
   "source": [
    "import pandas as pd\n",
    "import firebase_admin\n",
    "from firebase_admin import credentials, firestore"
   ]
  },
  {
   "cell_type": "markdown",
   "id": "318ba3d6",
   "metadata": {},
   "source": [
    "#### Point to Firebase credentials"
   ]
  },
  {
   "cell_type": "code",
   "execution_count": 2,
   "id": "71aaa5a3",
   "metadata": {},
   "outputs": [],
   "source": [
    "cred = credentials.Certificate(\"../../configs/app_creds.json\")"
   ]
  },
  {
   "cell_type": "markdown",
   "id": "ff3f6edf",
   "metadata": {},
   "source": [
    "#### Initialize firebase client as admin"
   ]
  },
  {
   "cell_type": "code",
   "execution_count": 3,
   "id": "4a4f885a",
   "metadata": {},
   "outputs": [
    {
     "data": {
      "text/plain": [
       "<firebase_admin.App at 0x129e825b0>"
      ]
     },
     "execution_count": 3,
     "metadata": {},
     "output_type": "execute_result"
    }
   ],
   "source": [
    "firebase_admin.initialize_app(cred,\n",
    "    {\n",
    "        \"databaseURL\": \"https://save-nyc-demo.firebaseio.com/\"\n",
    "})"
   ]
  },
  {
   "cell_type": "markdown",
   "id": "c83c3bb2",
   "metadata": {},
   "source": [
    "## Interfacing with your Firebase Collections"
   ]
  },
  {
   "cell_type": "markdown",
   "id": "69e92adb",
   "metadata": {},
   "source": [
    "#### Load data to bootstrap"
   ]
  },
  {
   "cell_type": "code",
   "execution_count": 4,
   "id": "b1957cee",
   "metadata": {},
   "outputs": [
    {
     "data": {
      "text/html": [
       "<div>\n",
       "<style scoped>\n",
       "    .dataframe tbody tr th:only-of-type {\n",
       "        vertical-align: middle;\n",
       "    }\n",
       "\n",
       "    .dataframe tbody tr th {\n",
       "        vertical-align: top;\n",
       "    }\n",
       "\n",
       "    .dataframe thead th {\n",
       "        text-align: right;\n",
       "    }\n",
       "</style>\n",
       "<table border=\"1\" class=\"dataframe\">\n",
       "  <thead>\n",
       "    <tr style=\"text-align: right;\">\n",
       "      <th></th>\n",
       "      <th>superhero</th>\n",
       "      <th>date</th>\n",
       "      <th>active_on_duty</th>\n",
       "    </tr>\n",
       "  </thead>\n",
       "  <tbody>\n",
       "    <tr>\n",
       "      <th>0</th>\n",
       "      <td>Daredevil</td>\n",
       "      <td>2022-05-29</td>\n",
       "      <td>1</td>\n",
       "    </tr>\n",
       "    <tr>\n",
       "      <th>1</th>\n",
       "      <td>Daredevil</td>\n",
       "      <td>2022-05-30</td>\n",
       "      <td>1</td>\n",
       "    </tr>\n",
       "    <tr>\n",
       "      <th>2</th>\n",
       "      <td>Daredevil</td>\n",
       "      <td>2022-05-31</td>\n",
       "      <td>1</td>\n",
       "    </tr>\n",
       "    <tr>\n",
       "      <th>3</th>\n",
       "      <td>Deadpool</td>\n",
       "      <td>2022-05-30</td>\n",
       "      <td>1</td>\n",
       "    </tr>\n",
       "    <tr>\n",
       "      <th>4</th>\n",
       "      <td>Deadpool</td>\n",
       "      <td>2022-05-31</td>\n",
       "      <td>1</td>\n",
       "    </tr>\n",
       "    <tr>\n",
       "      <th>5</th>\n",
       "      <td>Dr X</td>\n",
       "      <td>2022-05-29</td>\n",
       "      <td>0</td>\n",
       "    </tr>\n",
       "    <tr>\n",
       "      <th>6</th>\n",
       "      <td>Dr X</td>\n",
       "      <td>2022-05-30</td>\n",
       "      <td>1</td>\n",
       "    </tr>\n",
       "    <tr>\n",
       "      <th>7</th>\n",
       "      <td>Luke Cage</td>\n",
       "      <td>2022-05-30</td>\n",
       "      <td>0</td>\n",
       "    </tr>\n",
       "    <tr>\n",
       "      <th>8</th>\n",
       "      <td>Luke Cage</td>\n",
       "      <td>2022-05-31</td>\n",
       "      <td>0</td>\n",
       "    </tr>\n",
       "    <tr>\n",
       "      <th>9</th>\n",
       "      <td>Mr Fantastic</td>\n",
       "      <td>2022-05-31</td>\n",
       "      <td>1</td>\n",
       "    </tr>\n",
       "    <tr>\n",
       "      <th>10</th>\n",
       "      <td>Peeping Tom</td>\n",
       "      <td>2022-05-29</td>\n",
       "      <td>0</td>\n",
       "    </tr>\n",
       "    <tr>\n",
       "      <th>11</th>\n",
       "      <td>Peeping Tom</td>\n",
       "      <td>2022-05-31</td>\n",
       "      <td>1</td>\n",
       "    </tr>\n",
       "    <tr>\n",
       "      <th>12</th>\n",
       "      <td>Spiderman</td>\n",
       "      <td>2022-05-29</td>\n",
       "      <td>0</td>\n",
       "    </tr>\n",
       "    <tr>\n",
       "      <th>13</th>\n",
       "      <td>Spiderman</td>\n",
       "      <td>2022-05-30</td>\n",
       "      <td>1</td>\n",
       "    </tr>\n",
       "    <tr>\n",
       "      <th>14</th>\n",
       "      <td>Spiderman</td>\n",
       "      <td>2022-05-31</td>\n",
       "      <td>1</td>\n",
       "    </tr>\n",
       "    <tr>\n",
       "      <th>15</th>\n",
       "      <td>The Comedian</td>\n",
       "      <td>2022-05-29</td>\n",
       "      <td>1</td>\n",
       "    </tr>\n",
       "    <tr>\n",
       "      <th>16</th>\n",
       "      <td>Wolverine</td>\n",
       "      <td>2022-05-29</td>\n",
       "      <td>1</td>\n",
       "    </tr>\n",
       "    <tr>\n",
       "      <th>17</th>\n",
       "      <td>Wolverine</td>\n",
       "      <td>2022-05-31</td>\n",
       "      <td>1</td>\n",
       "    </tr>\n",
       "  </tbody>\n",
       "</table>\n",
       "</div>"
      ],
      "text/plain": [
       "       superhero        date  active_on_duty\n",
       "0      Daredevil  2022-05-29               1\n",
       "1      Daredevil  2022-05-30               1\n",
       "2      Daredevil  2022-05-31               1\n",
       "3       Deadpool  2022-05-30               1\n",
       "4       Deadpool  2022-05-31               1\n",
       "5           Dr X  2022-05-29               0\n",
       "6           Dr X  2022-05-30               1\n",
       "7      Luke Cage  2022-05-30               0\n",
       "8      Luke Cage  2022-05-31               0\n",
       "9   Mr Fantastic  2022-05-31               1\n",
       "10   Peeping Tom  2022-05-29               0\n",
       "11   Peeping Tom  2022-05-31               1\n",
       "12     Spiderman  2022-05-29               0\n",
       "13     Spiderman  2022-05-30               1\n",
       "14     Spiderman  2022-05-31               1\n",
       "15  The Comedian  2022-05-29               1\n",
       "16     Wolverine  2022-05-29               1\n",
       "17     Wolverine  2022-05-31               1"
      ]
     },
     "execution_count": 4,
     "metadata": {},
     "output_type": "execute_result"
    }
   ],
   "source": [
    "df = pd.read_csv(\"../../data/superhero_timesheets.csv\")\n",
    "df"
   ]
  },
  {
   "cell_type": "markdown",
   "id": "15cbad41",
   "metadata": {},
   "source": [
    "#### Connect to your desired collection"
   ]
  },
  {
   "cell_type": "code",
   "execution_count": 5,
   "id": "d361683c",
   "metadata": {},
   "outputs": [],
   "source": [
    "db = firestore.client()\n",
    "doc_ref = db.collection(\"superhero_timesheets\")"
   ]
  },
  {
   "cell_type": "markdown",
   "id": "d1252f3a",
   "metadata": {},
   "source": [
    "#### Bootstrap all records"
   ]
  },
  {
   "cell_type": "code",
   "execution_count": 6,
   "id": "52d23541",
   "metadata": {},
   "outputs": [
    {
     "name": "stdout",
     "output_type": "stream",
     "text": [
      "CPU times: user 143 ms, sys: 102 ms, total: 245 ms\n",
      "Wall time: 8.84 s\n"
     ]
    },
    {
     "data": {
      "text/plain": [
       "[(DatetimeWithNanoseconds(2022, 5, 31, 9, 26, 30, 552103, tzinfo=datetime.timezone.utc),\n",
       "  <google.cloud.firestore_v1.document.DocumentReference at 0x129eef610>),\n",
       " (DatetimeWithNanoseconds(2022, 5, 31, 9, 26, 30, 802361, tzinfo=datetime.timezone.utc),\n",
       "  <google.cloud.firestore_v1.document.DocumentReference at 0x129eef2b0>),\n",
       " (DatetimeWithNanoseconds(2022, 5, 31, 9, 26, 31, 329713, tzinfo=datetime.timezone.utc),\n",
       "  <google.cloud.firestore_v1.document.DocumentReference at 0x129eef9d0>),\n",
       " (DatetimeWithNanoseconds(2022, 5, 31, 9, 26, 31, 680735, tzinfo=datetime.timezone.utc),\n",
       "  <google.cloud.firestore_v1.document.DocumentReference at 0x129eefac0>),\n",
       " (DatetimeWithNanoseconds(2022, 5, 31, 9, 26, 32, 212026, tzinfo=datetime.timezone.utc),\n",
       "  <google.cloud.firestore_v1.document.DocumentReference at 0x129eefd90>),\n",
       " (DatetimeWithNanoseconds(2022, 5, 31, 9, 26, 32, 580143, tzinfo=datetime.timezone.utc),\n",
       "  <google.cloud.firestore_v1.document.DocumentReference at 0x129eef940>),\n",
       " (DatetimeWithNanoseconds(2022, 5, 31, 9, 26, 32, 989059, tzinfo=datetime.timezone.utc),\n",
       "  <google.cloud.firestore_v1.document.DocumentReference at 0x129eef9a0>),\n",
       " (DatetimeWithNanoseconds(2022, 5, 31, 9, 26, 33, 401804, tzinfo=datetime.timezone.utc),\n",
       "  <google.cloud.firestore_v1.document.DocumentReference at 0x129eefc70>),\n",
       " (DatetimeWithNanoseconds(2022, 5, 31, 9, 26, 33, 796918, tzinfo=datetime.timezone.utc),\n",
       "  <google.cloud.firestore_v1.document.DocumentReference at 0x129eefd60>),\n",
       " (DatetimeWithNanoseconds(2022, 5, 31, 9, 26, 34, 260708, tzinfo=datetime.timezone.utc),\n",
       "  <google.cloud.firestore_v1.document.DocumentReference at 0x129eefdc0>),\n",
       " (DatetimeWithNanoseconds(2022, 5, 31, 9, 26, 34, 633452, tzinfo=datetime.timezone.utc),\n",
       "  <google.cloud.firestore_v1.document.DocumentReference at 0x129eefa60>),\n",
       " (DatetimeWithNanoseconds(2022, 5, 31, 9, 26, 35, 74970, tzinfo=datetime.timezone.utc),\n",
       "  <google.cloud.firestore_v1.document.DocumentReference at 0x12d00bca0>),\n",
       " (DatetimeWithNanoseconds(2022, 5, 31, 9, 26, 35, 469888, tzinfo=datetime.timezone.utc),\n",
       "  <google.cloud.firestore_v1.document.DocumentReference at 0x12d00bcd0>),\n",
       " (DatetimeWithNanoseconds(2022, 5, 31, 9, 26, 36, 8062, tzinfo=datetime.timezone.utc),\n",
       "  <google.cloud.firestore_v1.document.DocumentReference at 0x12d00b430>),\n",
       " (DatetimeWithNanoseconds(2022, 5, 31, 9, 26, 36, 326235, tzinfo=datetime.timezone.utc),\n",
       "  <google.cloud.firestore_v1.document.DocumentReference at 0x12d00b700>),\n",
       " (DatetimeWithNanoseconds(2022, 5, 31, 9, 26, 36, 838852, tzinfo=datetime.timezone.utc),\n",
       "  <google.cloud.firestore_v1.document.DocumentReference at 0x12d00b4f0>),\n",
       " (DatetimeWithNanoseconds(2022, 5, 31, 9, 26, 37, 83017, tzinfo=datetime.timezone.utc),\n",
       "  <google.cloud.firestore_v1.document.DocumentReference at 0x12d00ba90>),\n",
       " (DatetimeWithNanoseconds(2022, 5, 31, 9, 26, 37, 600088, tzinfo=datetime.timezone.utc),\n",
       "  <google.cloud.firestore_v1.document.DocumentReference at 0x12d00bdf0>)]"
      ]
     },
     "execution_count": 6,
     "metadata": {},
     "output_type": "execute_result"
    }
   ],
   "source": [
    "%%time\n",
    "tmp = df.to_dict(orient=\"records\")\n",
    "\n",
    "list(map(lambda x: doc_ref.add(x), tmp))"
   ]
  },
  {
   "cell_type": "markdown",
   "id": "b51c22ee",
   "metadata": {},
   "source": [
    "#### Query to fetch all records for today"
   ]
  },
  {
   "cell_type": "code",
   "execution_count": 7,
   "id": "bb055778",
   "metadata": {},
   "outputs": [
    {
     "data": {
      "text/html": [
       "<div>\n",
       "<style scoped>\n",
       "    .dataframe tbody tr th:only-of-type {\n",
       "        vertical-align: middle;\n",
       "    }\n",
       "\n",
       "    .dataframe tbody tr th {\n",
       "        vertical-align: top;\n",
       "    }\n",
       "\n",
       "    .dataframe thead th {\n",
       "        text-align: right;\n",
       "    }\n",
       "</style>\n",
       "<table border=\"1\" class=\"dataframe\">\n",
       "  <thead>\n",
       "    <tr style=\"text-align: right;\">\n",
       "      <th></th>\n",
       "      <th>active_on_duty</th>\n",
       "      <th>date</th>\n",
       "      <th>superhero</th>\n",
       "    </tr>\n",
       "  </thead>\n",
       "  <tbody>\n",
       "    <tr>\n",
       "      <th>0</th>\n",
       "      <td>1</td>\n",
       "      <td>2022-05-31</td>\n",
       "      <td>Spiderman</td>\n",
       "    </tr>\n",
       "    <tr>\n",
       "      <th>1</th>\n",
       "      <td>1</td>\n",
       "      <td>2022-05-31</td>\n",
       "      <td>Deadpool</td>\n",
       "    </tr>\n",
       "    <tr>\n",
       "      <th>2</th>\n",
       "      <td>1</td>\n",
       "      <td>2022-05-31</td>\n",
       "      <td>Mr Fantastic</td>\n",
       "    </tr>\n",
       "    <tr>\n",
       "      <th>3</th>\n",
       "      <td>0</td>\n",
       "      <td>2022-05-31</td>\n",
       "      <td>Luke Cage</td>\n",
       "    </tr>\n",
       "    <tr>\n",
       "      <th>4</th>\n",
       "      <td>1</td>\n",
       "      <td>2022-05-31</td>\n",
       "      <td>Daredevil</td>\n",
       "    </tr>\n",
       "    <tr>\n",
       "      <th>5</th>\n",
       "      <td>1</td>\n",
       "      <td>2022-05-31</td>\n",
       "      <td>Wolverine</td>\n",
       "    </tr>\n",
       "    <tr>\n",
       "      <th>6</th>\n",
       "      <td>1</td>\n",
       "      <td>2022-05-31</td>\n",
       "      <td>Peeping Tom</td>\n",
       "    </tr>\n",
       "  </tbody>\n",
       "</table>\n",
       "</div>"
      ],
      "text/plain": [
       "   active_on_duty        date     superhero\n",
       "0               1  2022-05-31     Spiderman\n",
       "1               1  2022-05-31      Deadpool\n",
       "2               1  2022-05-31  Mr Fantastic\n",
       "3               0  2022-05-31     Luke Cage\n",
       "4               1  2022-05-31     Daredevil\n",
       "5               1  2022-05-31     Wolverine\n",
       "6               1  2022-05-31   Peeping Tom"
      ]
     },
     "execution_count": 7,
     "metadata": {},
     "output_type": "execute_result"
    }
   ],
   "source": [
    "today = pd.Timestamp.now().date()\n",
    "res_0 = pd.DataFrame([\n",
    "    doc.to_dict() for doc in db.collection(u\"superhero_timesheets\").where(u\"date\", u\">=\", str(today)).stream()\n",
    "])\n",
    "\n",
    "res_0"
   ]
  },
  {
   "cell_type": "markdown",
   "id": "3642add4",
   "metadata": {},
   "source": [
    "#### Adding a record"
   ]
  },
  {
   "cell_type": "code",
   "execution_count": 8,
   "id": "2ec90efd",
   "metadata": {},
   "outputs": [
    {
     "name": "stdout",
     "output_type": "stream",
     "text": [
      "CPU times: user 3.52 ms, sys: 6.28 ms, total: 9.79 ms\n",
      "Wall time: 520 ms\n"
     ]
    },
    {
     "data": {
      "text/plain": [
       "(DatetimeWithNanoseconds(2022, 5, 31, 9, 26, 38, 396862, tzinfo=datetime.timezone.utc),\n",
       " <google.cloud.firestore_v1.document.DocumentReference at 0x129e82940>)"
      ]
     },
     "execution_count": 8,
     "metadata": {},
     "output_type": "execute_result"
    }
   ],
   "source": [
    "%%time\n",
    "doc_ref.add({\n",
    "    \"superhero\": \"Leonardo\",\n",
    "    \"active_on_duty\": 1,\n",
    "    \"date\": \"2022-05-31\"\n",
    "})"
   ]
  },
  {
   "cell_type": "code",
   "execution_count": 9,
   "id": "65273ef3",
   "metadata": {},
   "outputs": [
    {
     "data": {
      "text/html": [
       "<div>\n",
       "<style scoped>\n",
       "    .dataframe tbody tr th:only-of-type {\n",
       "        vertical-align: middle;\n",
       "    }\n",
       "\n",
       "    .dataframe tbody tr th {\n",
       "        vertical-align: top;\n",
       "    }\n",
       "\n",
       "    .dataframe thead th {\n",
       "        text-align: right;\n",
       "    }\n",
       "</style>\n",
       "<table border=\"1\" class=\"dataframe\">\n",
       "  <thead>\n",
       "    <tr style=\"text-align: right;\">\n",
       "      <th></th>\n",
       "      <th>superhero</th>\n",
       "      <th>date</th>\n",
       "      <th>active_on_duty</th>\n",
       "    </tr>\n",
       "  </thead>\n",
       "  <tbody>\n",
       "    <tr>\n",
       "      <th>0</th>\n",
       "      <td>Spiderman</td>\n",
       "      <td>2022-05-31</td>\n",
       "      <td>1</td>\n",
       "    </tr>\n",
       "    <tr>\n",
       "      <th>1</th>\n",
       "      <td>Deadpool</td>\n",
       "      <td>2022-05-31</td>\n",
       "      <td>1</td>\n",
       "    </tr>\n",
       "    <tr>\n",
       "      <th>2</th>\n",
       "      <td>Leonardo</td>\n",
       "      <td>2022-05-31</td>\n",
       "      <td>1</td>\n",
       "    </tr>\n",
       "    <tr>\n",
       "      <th>3</th>\n",
       "      <td>Mr Fantastic</td>\n",
       "      <td>2022-05-31</td>\n",
       "      <td>1</td>\n",
       "    </tr>\n",
       "    <tr>\n",
       "      <th>4</th>\n",
       "      <td>Luke Cage</td>\n",
       "      <td>2022-05-31</td>\n",
       "      <td>0</td>\n",
       "    </tr>\n",
       "    <tr>\n",
       "      <th>5</th>\n",
       "      <td>Daredevil</td>\n",
       "      <td>2022-05-31</td>\n",
       "      <td>1</td>\n",
       "    </tr>\n",
       "    <tr>\n",
       "      <th>6</th>\n",
       "      <td>Wolverine</td>\n",
       "      <td>2022-05-31</td>\n",
       "      <td>1</td>\n",
       "    </tr>\n",
       "    <tr>\n",
       "      <th>7</th>\n",
       "      <td>Peeping Tom</td>\n",
       "      <td>2022-05-31</td>\n",
       "      <td>1</td>\n",
       "    </tr>\n",
       "  </tbody>\n",
       "</table>\n",
       "</div>"
      ],
      "text/plain": [
       "      superhero        date  active_on_duty\n",
       "0     Spiderman  2022-05-31               1\n",
       "1      Deadpool  2022-05-31               1\n",
       "2      Leonardo  2022-05-31               1\n",
       "3  Mr Fantastic  2022-05-31               1\n",
       "4     Luke Cage  2022-05-31               0\n",
       "5     Daredevil  2022-05-31               1\n",
       "6     Wolverine  2022-05-31               1\n",
       "7   Peeping Tom  2022-05-31               1"
      ]
     },
     "execution_count": 9,
     "metadata": {},
     "output_type": "execute_result"
    }
   ],
   "source": [
    "res_1 = pd.DataFrame([\n",
    "    doc.to_dict() for doc in db.collection(u\"superhero_timesheets\").where(u\"date\", u\">=\", str(today)).stream()\n",
    "])\n",
    "\n",
    "res_1"
   ]
  },
  {
   "cell_type": "markdown",
   "id": "73429d14",
   "metadata": {},
   "source": [
    "#### Dropping a collection"
   ]
  },
  {
   "cell_type": "code",
   "execution_count": 10,
   "id": "4d5929d4",
   "metadata": {},
   "outputs": [
    {
     "name": "stdout",
     "output_type": "stream",
     "text": [
      "Deleting doc 4HMEnEzwKPc6hDL9LITM => {'active_on_duty': 1, 'superhero': 'Dr X', 'date': '2022-05-30'}\n",
      "Deleting doc 4iOfwQufWPOnPgz1wB9N => {'active_on_duty': 0, 'date': '2022-05-29', 'superhero': 'Peeping Tom'}\n",
      "Deleting doc 5XB4NqhrkmlFMeXPPZFN => {'date': '2022-05-29', 'active_on_duty': 0, 'superhero': 'Dr X'}\n",
      "Deleting doc 6VE8RYyFfgHKIYorugfa => {'date': '2022-05-31', 'superhero': 'Spiderman', 'active_on_duty': 1}\n",
      "Deleting doc 9CENdrHjDFo9wMEcJKDL => {'active_on_duty': 1, 'date': '2022-05-31', 'superhero': 'Deadpool'}\n",
      "Deleting doc FrTjsUKUVZPF1sCRjIN0 => {'active_on_duty': 1, 'superhero': 'Leonardo', 'date': '2022-05-31'}\n",
      "Deleting doc HM2RP1WqC62a5JxGv8kf => {'date': '2022-05-30', 'active_on_duty': 1, 'superhero': 'Spiderman'}\n",
      "Deleting doc HyWYswe2JoPm7aqfK2Ck => {'superhero': 'Mr Fantastic', 'date': '2022-05-31', 'active_on_duty': 1}\n",
      "Deleting doc KFMAWcd9xIpmXrv30rwF => {'active_on_duty': 1, 'date': '2022-05-29', 'superhero': 'Daredevil'}\n",
      "Deleting doc QbwgjYa6NhxTmVEBhTbP => {'date': '2022-05-31', 'superhero': 'Luke Cage', 'active_on_duty': 0}\n",
      "Deleting doc SE4hGvYJRVokff3kpqRd => {'date': '2022-05-29', 'superhero': 'Spiderman', 'active_on_duty': 0}\n",
      "Deleting doc Skr06TNGFmtqY0WZnl7t => {'date': '2022-05-31', 'superhero': 'Daredevil', 'active_on_duty': 1}\n",
      "Deleting doc W7egMFk1faJntQBUzg3A => {'date': '2022-05-29', 'superhero': 'Wolverine', 'active_on_duty': 1}\n",
      "Deleting doc XWW3NTGCmhb11J0WcBFg => {'superhero': 'Luke Cage', 'active_on_duty': 0, 'date': '2022-05-30'}\n",
      "Deleting doc eyfDQEseGjTQ6PVioWf6 => {'superhero': 'Deadpool', 'active_on_duty': 1, 'date': '2022-05-30'}\n",
      "Deleting doc hTUyqRNKJZ5Iwy8wEKwO => {'superhero': 'The Comedian', 'active_on_duty': 1, 'date': '2022-05-29'}\n",
      "Deleting doc lKcUEjve6phScRTi1hkk => {'superhero': 'Daredevil', 'active_on_duty': 1, 'date': '2022-05-30'}\n",
      "Deleting doc vCQxZ6tKzuZ0xWuqT8M1 => {'active_on_duty': 1, 'superhero': 'Wolverine', 'date': '2022-05-31'}\n",
      "Deleting doc y8nTBIHpJLHXmRz5nFns => {'superhero': 'Peeping Tom', 'active_on_duty': 1, 'date': '2022-05-31'}\n",
      "CPU times: user 163 ms, sys: 265 ms, total: 428 ms\n",
      "Wall time: 8.92 s\n"
     ]
    }
   ],
   "source": [
    "%%time\n",
    "def delete_collection(coll_ref, batch_size=200):\n",
    "    docs = coll_ref.limit(batch_size).stream()\n",
    "    deleted = 0\n",
    "\n",
    "    for doc in docs:\n",
    "        print(f'Deleting doc {doc.id} => {doc.to_dict()}')\n",
    "        doc.reference.delete()\n",
    "        deleted = deleted + 1\n",
    "\n",
    "    if deleted >= batch_size:\n",
    "        return delete_collection(coll_ref, batch_size)\n",
    "    \n",
    "delete_collection(doc_ref)"
   ]
  },
  {
   "cell_type": "markdown",
   "id": "573818b5",
   "metadata": {},
   "source": [
    "## Outro\n",
    "Thank you for following this workshop all the way to the ends. All credits to [Firebase Docs](https://firebase.google.com/docs) for code snippets used in this notebook."
   ]
  }
 ],
 "metadata": {
  "interpreter": {
   "hash": "c793117ae5d2678a81cad7342c660a9d1ee0c1491aecac95024b243d454c99c8"
  },
  "kernelspec": {
   "display_name": "Python 3.9.13 ('.env')",
   "language": "python",
   "name": "python3"
  },
  "language_info": {
   "codemirror_mode": {
    "name": "ipython",
    "version": 3
   },
   "file_extension": ".py",
   "mimetype": "text/x-python",
   "name": "python",
   "nbconvert_exporter": "python",
   "pygments_lexer": "ipython3",
   "version": "3.9.13"
  }
 },
 "nbformat": 4,
 "nbformat_minor": 5
}
